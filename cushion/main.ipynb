{
 "cells": [
  {
   "cell_type": "code",
   "execution_count": 1,
   "metadata": {},
   "outputs": [
    {
     "name": "stdout",
     "output_type": "stream",
     "text": [
      "Torch version: 2.0.0+cu117\n",
      "Torch build with CUDA? True\n",
      "# Device(s) available: 1, Name(s): NVIDIA GeForce RTX 3080\n"
     ]
    }
   ],
   "source": [
    "from utils import *\n",
    "\n",
    "h2 = H2Toolkit()\n",
    "h2.check_torch_gpu()"
   ]
  },
  {
   "cell_type": "code",
   "execution_count": 2,
   "metadata": {},
   "outputs": [
    {
     "name": "stdout",
     "output_type": "stream",
     "text": [
      "CH4: (10000, 17) | CO2: (10000, 17) | N2: (10000, 17) | NOCG: (10000, 17)\n",
      "All: (1000, 17)\n",
      "Full dataset shape: (1000, 17)\n",
      "Truncated dataset shape: (1000, 17)\n",
      "Clean (no outliers) dataset shape: (917, 17)\n",
      "Dataset: X=(917, 12) | y=(917, 3)\n"
     ]
    }
   ],
   "source": [
    "all_data = h2.read_data(n_subsample=1000)\n",
    "X_dataset, y_dataset, x_scaler, y_scaler = h2.process_data(restype='SA')"
   ]
  },
  {
   "cell_type": "code",
   "execution_count": 3,
   "metadata": {},
   "outputs": [
    {
     "name": "stdout",
     "output_type": "stream",
     "text": [
      "X: train: (624, 12) | validation: (109, 12) | test: (184, 12)\n",
      "y: train: (624, 3)  | validation: (109, 3)  | test: (184, 3)\n"
     ]
    }
   ],
   "source": [
    "X_train, X_valid, X_test, y_train, y_valid, y_test = h2.train_valid_test_split()\n",
    "\n",
    "X_train_tensor, X_valid_tensor, X_test_tensor, y_train_tensor, y_valid_tensor, y_test_tensor = h2.arrays_to_tensors()\n",
    "\n",
    "train_dataset, train_loader, valid_dataset, valid_loader= h2.make_dataloader()"
   ]
  },
  {
   "cell_type": "code",
   "execution_count": 4,
   "metadata": {},
   "outputs": [
    {
     "name": "stderr",
     "output_type": "stream",
     "text": [
      "  0%|          | 0/100 [00:01<?, ?it/s]\n"
     ]
    },
    {
     "ename": "TypeError",
     "evalue": "'int' object is not iterable",
     "output_type": "error",
     "traceback": [
      "\u001b[1;31m---------------------------------------------------------------------------\u001b[0m",
      "\u001b[1;31mTypeError\u001b[0m                                 Traceback (most recent call last)",
      "\u001b[1;32me:\\H2-Proxy\\cushion\\main.ipynb Cell 4\u001b[0m in \u001b[0;36m6\n\u001b[0;32m      <a href='vscode-notebook-cell:/e%3A/H2-Proxy/cushion/main.ipynb#X36sZmlsZQ%3D%3D?line=2'>3</a>\u001b[0m optimizer \u001b[39m=\u001b[39m optim\u001b[39m.\u001b[39mAdam(rom\u001b[39m.\u001b[39mparameters(), lr\u001b[39m=\u001b[39m\u001b[39m1e-3\u001b[39m)\n\u001b[0;32m      <a href='vscode-notebook-cell:/e%3A/H2-Proxy/cushion/main.ipynb#X36sZmlsZQ%3D%3D?line=3'>4</a>\u001b[0m loss_fn   \u001b[39m=\u001b[39m customLoss()\n\u001b[1;32m----> <a href='vscode-notebook-cell:/e%3A/H2-Proxy/cushion/main.ipynb#X36sZmlsZQ%3D%3D?line=5'>6</a>\u001b[0m dict_log \u001b[39m=\u001b[39m h2\u001b[39m.\u001b[39;49mtrain(rom, loss_fn, optimizer, \u001b[39m100\u001b[39;49m, train_loader, valid_loader)\n",
      "File \u001b[1;32me:\\H2-Proxy\\cushion\\utils.py:192\u001b[0m, in \u001b[0;36mH2Toolkit.train\u001b[1;34m(self, model, loss_func, optimizer, epochs, train_loader, valid_loader)\u001b[0m\n\u001b[0;32m    190\u001b[0m e \u001b[39m=\u001b[39m epoch\u001b[39m/\u001b[39mepochs\n\u001b[0;32m    191\u001b[0m loss_epoch \u001b[39m=\u001b[39m \u001b[39mself\u001b[39m\u001b[39m.\u001b[39mtrain_one_epoch(model, loss_func, optimizer, train_loader)\n\u001b[1;32m--> 192\u001b[0m val_loss_epoch \u001b[39m=\u001b[39m \u001b[39mself\u001b[39;49m\u001b[39m.\u001b[39;49mvalidate(model, loss_func, valid_loader)\n\u001b[0;32m    193\u001b[0m msg \u001b[39m=\u001b[39m \u001b[39m'\u001b[39m\u001b[39mEpoch: \u001b[39m\u001b[39m{}\u001b[39;00m\u001b[39m -- Loss: \u001b[39m\u001b[39m{:.5f}\u001b[39;00m\u001b[39m, Validation Loss: \u001b[39m\u001b[39m{:.5f}\u001b[39;00m\u001b[39m'\u001b[39m\u001b[39m.\u001b[39mformat(e, loss_epoch, val_loss_epoch)\n\u001b[0;32m    194\u001b[0m pbar\u001b[39m.\u001b[39mset_description(msg)\n",
      "File \u001b[1;32me:\\H2-Proxy\\cushion\\utils.py:178\u001b[0m, in \u001b[0;36mH2Toolkit.validate\u001b[1;34m(self, model, loss_func, valid_loader)\u001b[0m\n\u001b[0;32m    176\u001b[0m loss_step \u001b[39m=\u001b[39m []\n\u001b[0;32m    177\u001b[0m \u001b[39mwith\u001b[39;00m torch\u001b[39m.\u001b[39mno_grad():\n\u001b[1;32m--> 178\u001b[0m     \u001b[39mfor\u001b[39;00m xbatch, ybatch \u001b[39min\u001b[39;00m valid_loader:\n\u001b[0;32m    179\u001b[0m         yhat \u001b[39m=\u001b[39m model(xbatch)\n\u001b[0;32m    180\u001b[0m         val_loss \u001b[39m=\u001b[39m criterion(yhat, ybatch)\n",
      "File \u001b[1;32mc:\\Users\\Misael Morales\\AppData\\Local\\Programs\\Python\\Python39\\lib\\site-packages\\torch\\utils\\data\\dataloader.py:442\u001b[0m, in \u001b[0;36mDataLoader.__iter__\u001b[1;34m(self)\u001b[0m\n\u001b[0;32m    440\u001b[0m     \u001b[39mreturn\u001b[39;00m \u001b[39mself\u001b[39m\u001b[39m.\u001b[39m_iterator\n\u001b[0;32m    441\u001b[0m \u001b[39melse\u001b[39;00m:\n\u001b[1;32m--> 442\u001b[0m     \u001b[39mreturn\u001b[39;00m \u001b[39mself\u001b[39;49m\u001b[39m.\u001b[39;49m_get_iterator()\n",
      "File \u001b[1;32mc:\\Users\\Misael Morales\\AppData\\Local\\Programs\\Python\\Python39\\lib\\site-packages\\torch\\utils\\data\\dataloader.py:385\u001b[0m, in \u001b[0;36mDataLoader._get_iterator\u001b[1;34m(self)\u001b[0m\n\u001b[0;32m    383\u001b[0m \u001b[39mdef\u001b[39;00m \u001b[39m_get_iterator\u001b[39m(\u001b[39mself\u001b[39m) \u001b[39m-\u001b[39m\u001b[39m>\u001b[39m \u001b[39m'\u001b[39m\u001b[39m_BaseDataLoaderIter\u001b[39m\u001b[39m'\u001b[39m:\n\u001b[0;32m    384\u001b[0m     \u001b[39mif\u001b[39;00m \u001b[39mself\u001b[39m\u001b[39m.\u001b[39mnum_workers \u001b[39m==\u001b[39m \u001b[39m0\u001b[39m:\n\u001b[1;32m--> 385\u001b[0m         \u001b[39mreturn\u001b[39;00m _SingleProcessDataLoaderIter(\u001b[39mself\u001b[39;49m)\n\u001b[0;32m    386\u001b[0m     \u001b[39melse\u001b[39;00m:\n\u001b[0;32m    387\u001b[0m         \u001b[39mself\u001b[39m\u001b[39m.\u001b[39mcheck_worker_number_rationality()\n",
      "File \u001b[1;32mc:\\Users\\Misael Morales\\AppData\\Local\\Programs\\Python\\Python39\\lib\\site-packages\\torch\\utils\\data\\dataloader.py:663\u001b[0m, in \u001b[0;36m_SingleProcessDataLoaderIter.__init__\u001b[1;34m(self, loader)\u001b[0m\n\u001b[0;32m    662\u001b[0m \u001b[39mdef\u001b[39;00m \u001b[39m__init__\u001b[39m(\u001b[39mself\u001b[39m, loader):\n\u001b[1;32m--> 663\u001b[0m     \u001b[39msuper\u001b[39;49m()\u001b[39m.\u001b[39;49m\u001b[39m__init__\u001b[39;49m(loader)\n\u001b[0;32m    664\u001b[0m     \u001b[39massert\u001b[39;00m \u001b[39mself\u001b[39m\u001b[39m.\u001b[39m_timeout \u001b[39m==\u001b[39m \u001b[39m0\u001b[39m\n\u001b[0;32m    665\u001b[0m     \u001b[39massert\u001b[39;00m \u001b[39mself\u001b[39m\u001b[39m.\u001b[39m_num_workers \u001b[39m==\u001b[39m \u001b[39m0\u001b[39m\n",
      "File \u001b[1;32mc:\\Users\\Misael Morales\\AppData\\Local\\Programs\\Python\\Python39\\lib\\site-packages\\torch\\utils\\data\\dataloader.py:604\u001b[0m, in \u001b[0;36m_BaseDataLoaderIter.__init__\u001b[1;34m(self, loader)\u001b[0m\n\u001b[0;32m    602\u001b[0m \u001b[39mself\u001b[39m\u001b[39m.\u001b[39m_timeout \u001b[39m=\u001b[39m loader\u001b[39m.\u001b[39mtimeout\n\u001b[0;32m    603\u001b[0m \u001b[39mself\u001b[39m\u001b[39m.\u001b[39m_collate_fn \u001b[39m=\u001b[39m loader\u001b[39m.\u001b[39mcollate_fn\n\u001b[1;32m--> 604\u001b[0m \u001b[39mself\u001b[39m\u001b[39m.\u001b[39m_sampler_iter \u001b[39m=\u001b[39m \u001b[39miter\u001b[39;49m(\u001b[39mself\u001b[39;49m\u001b[39m.\u001b[39;49m_index_sampler)\n\u001b[0;32m    605\u001b[0m \u001b[39mself\u001b[39m\u001b[39m.\u001b[39m_base_seed \u001b[39m=\u001b[39m torch\u001b[39m.\u001b[39mempty((), dtype\u001b[39m=\u001b[39mtorch\u001b[39m.\u001b[39mint64)\u001b[39m.\u001b[39mrandom_(generator\u001b[39m=\u001b[39mloader\u001b[39m.\u001b[39mgenerator)\u001b[39m.\u001b[39mitem()\n\u001b[0;32m    606\u001b[0m \u001b[39mself\u001b[39m\u001b[39m.\u001b[39m_persistent_workers \u001b[39m=\u001b[39m loader\u001b[39m.\u001b[39mpersistent_workers\n",
      "\u001b[1;31mTypeError\u001b[0m: 'int' object is not iterable"
     ]
    }
   ],
   "source": [
    "rom = h2_cushion_rom(X_dataset.shape[-1], y_dataset.shape[-1], [32,64,128,64,32,16])\n",
    "\n",
    "optimizer = optim.Adam(rom.parameters(), lr=1e-3)\n",
    "loss_fn   = customLoss()\n",
    "\n",
    "dict_log = h2.train(rom, loss_fn, optimizer, 100, train_loader, valid_loader)"
   ]
  },
  {
   "cell_type": "code",
   "execution_count": null,
   "metadata": {},
   "outputs": [],
   "source": [
    "plt.plot(dict_log['loss'], label='loss')\n",
    "plt.plot(dict_log['val_loss'], label='validation loss')\n",
    "plt.legend()\n",
    "plt.show()"
   ]
  },
  {
   "cell_type": "code",
   "execution_count": null,
   "metadata": {},
   "outputs": [],
   "source": [
    "y_train_pred = np.array(rom(X_train_tensor).tolist())\n",
    "y_test_pred  = np.array(rom(X_test_tensor).tolist())\n",
    "print('Train Pred shape: {}'.format(y_train_pred.shape))\n",
    "print('Test Pred shape:  {}'.format(y_test_pred.shape))"
   ]
  },
  {
   "cell_type": "code",
   "execution_count": null,
   "metadata": {},
   "outputs": [],
   "source": [
    "mse_train = mean_squared_error(y_train, y_train_pred)\n",
    "r2_train  = r2_score(y_train, y_train_pred)\n",
    "print('Train -- MSE={:.2e} | R^2={:.2f}'.format(mse_train, r2_train))\n",
    "\n",
    "mse_test = mean_squared_error(y_test, y_test_pred)\n",
    "r2_test  = r2_score(y_test, y_test_pred)\n",
    "print('Test  -- MSE={:.2e} | R^2={:.2f}'.format(mse_test, r2_test))"
   ]
  },
  {
   "cell_type": "code",
   "execution_count": null,
   "metadata": {},
   "outputs": [],
   "source": [
    "plt.figure(figsize=(15,3))\n",
    "for i in range(3):\n",
    "    r2train = r2_score(y_train[:,i], y_train_pred[:,i])\n",
    "    r2test  = r2_score(y_test[:,i],  y_test_pred[:,i])\n",
    "    plt.subplot(1,3,i+1)\n",
    "    plt.scatter(y_train[:,i], y_train_pred[:,i], alpha=0.5, label='train')\n",
    "    plt.scatter(y_test[:,i],  y_test_pred[:,i], alpha=0.5, label='test')\n",
    "    plt.axline([0,0],[1,1], c='r', linewidth=3)\n",
    "    plt.xlabel('True'); plt.ylabel('Predicted')\n",
    "    plt.xlim([-0.1,1.1]); plt.ylim([-0.1,1.1])\n",
    "    plt.title('$R^2_{}$={:.2f} ; $R^2_{}$={:.2f}'.format('{train}',r2train,'{test}',r2test))\n",
    "    plt.legend()\n",
    "plt.show()"
   ]
  },
  {
   "cell_type": "code",
   "execution_count": null,
   "metadata": {},
   "outputs": [],
   "source": [
    "#make_dot(rom(X_tensor), params=dict(rom.named_parameters()))"
   ]
  },
  {
   "attachments": {},
   "cell_type": "markdown",
   "metadata": {},
   "source": [
    "***\n",
    "# END"
   ]
  }
 ],
 "metadata": {
  "kernelspec": {
   "display_name": "deep",
   "language": "python",
   "name": "python3"
  },
  "language_info": {
   "codemirror_mode": {
    "name": "ipython",
    "version": 3
   },
   "file_extension": ".py",
   "mimetype": "text/x-python",
   "name": "python",
   "nbconvert_exporter": "python",
   "pygments_lexer": "ipython3",
   "version": "3.9.10"
  },
  "orig_nbformat": 4
 },
 "nbformat": 4,
 "nbformat_minor": 2
}
