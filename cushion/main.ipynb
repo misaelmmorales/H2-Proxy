{
 "cells": [
  {
   "cell_type": "code",
   "execution_count": 1,
   "metadata": {},
   "outputs": [
    {
     "name": "stdout",
     "output_type": "stream",
     "text": [
      "Checking Tensorflow Version:\n",
      "Tensorflow built with CUDA? True\n",
      "Tensorflow version: 2.10.0\n",
      "# GPU available: 1\n",
      "CUDA: 64_112 | cuDNN: 64_8\n",
      "[PhysicalDevice(name='/physical_device:CPU:0', device_type='CPU'), PhysicalDevice(name='/physical_device:GPU:0', device_type='GPU')]\n"
     ]
    }
   ],
   "source": [
    "from utils import *\n",
    "check_tensorflow_gpu()\n",
    "clear_session()\n",
    "\n",
    "h2 = h2proxy()"
   ]
  },
  {
   "cell_type": "code",
   "execution_count": 2,
   "metadata": {},
   "outputs": [
    {
     "name": "stdout",
     "output_type": "stream",
     "text": [
      "CH4: (10000, 17) | CO2: (10000, 17) | N2: (10000, 17)\n",
      "All: (1000, 17)\n",
      "Full dataset shape: (1000, 17)\n",
      "Truncated dataset shape: (1000, 17)\n",
      "Clean (no outliers) dataset shape: (1000, 17)\n",
      "Train: X=(700, 12) | y=(700, 3)\n",
      "Test:  X=(300, 12) | y=(300, 3)\n"
     ]
    },
    {
     "name": "stderr",
     "output_type": "stream",
     "text": [
      "c:\\Users\\381792\\AppData\\Local\\anaconda3\\envs\\deep\\lib\\site-packages\\sklearn\\preprocessing\\_data.py:473: RuntimeWarning: All-NaN slice encountered\n",
      "  data_min = np.nanmin(X, axis=0)\n",
      "c:\\Users\\381792\\AppData\\Local\\anaconda3\\envs\\deep\\lib\\site-packages\\sklearn\\preprocessing\\_data.py:474: RuntimeWarning: All-NaN slice encountered\n",
      "  data_max = np.nanmax(X, axis=0)\n"
     ]
    }
   ],
   "source": [
    "h2.read_data(n_subsample=1000)\n",
    "h2.process_data()"
   ]
  },
  {
   "cell_type": "code",
   "execution_count": null,
   "metadata": {},
   "outputs": [],
   "source": [
    "temp = h2.all_data[h2.all_data['gwrt']<1e5]\n",
    "temp2 = temp[(np.abs(zscore(temp))<3)]\n",
    "\n",
    "print(np.unique(temp2.isna()))\n",
    "\n",
    "temp2.loc[:,'Sw'] = 1\n",
    "\n",
    "print(np.unique(temp2.isna()))\n",
    "temp2"
   ]
  },
  {
   "cell_type": "code",
   "execution_count": null,
   "metadata": {},
   "outputs": [],
   "source": [
    "np.unique(h2.all_data.isna())"
   ]
  },
  {
   "cell_type": "code",
   "execution_count": null,
   "metadata": {},
   "outputs": [],
   "source": [
    "from sklearn.linear_model import LinearRegression\n",
    "\n",
    "lr = LinearRegression()\n",
    "\n",
    "lr.fit(h2.X_train, h2.y_train)"
   ]
  },
  {
   "cell_type": "code",
   "execution_count": null,
   "metadata": {},
   "outputs": [],
   "source": [
    "h2.make_model()\n",
    "h2.plot_loss()\n",
    "h2.make_predictions()"
   ]
  },
  {
   "cell_type": "code",
   "execution_count": null,
   "metadata": {},
   "outputs": [],
   "source": [
    "h2.print_metrics()\n",
    "h2.plot_results()\n",
    "h2.save_data()"
   ]
  },
  {
   "attachments": {},
   "cell_type": "markdown",
   "metadata": {},
   "source": [
    "***\n",
    "# END"
   ]
  }
 ],
 "metadata": {
  "kernelspec": {
   "display_name": "deep",
   "language": "python",
   "name": "python3"
  },
  "language_info": {
   "codemirror_mode": {
    "name": "ipython",
    "version": 3
   },
   "file_extension": ".py",
   "mimetype": "text/x-python",
   "name": "python",
   "nbconvert_exporter": "python",
   "pygments_lexer": "ipython3",
   "version": "3.9.16"
  },
  "orig_nbformat": 4
 },
 "nbformat": 4,
 "nbformat_minor": 2
}
