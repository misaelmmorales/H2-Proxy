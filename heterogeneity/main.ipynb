{
 "cells": [
  {
   "cell_type": "code",
   "execution_count": null,
   "metadata": {},
   "outputs": [],
   "source": [
    "from utils import *\n",
    "\n",
    "hete = Heterogeneity()"
   ]
  },
  {
   "cell_type": "code",
   "execution_count": null,
   "metadata": {},
   "outputs": [],
   "source": [
    "facies = hete.load_facies()\n",
    "\n",
    "hete_fluv, hete_gaus = hete.load_perm_poro()"
   ]
  },
  {
   "cell_type": "code",
   "execution_count": null,
   "metadata": {},
   "outputs": [],
   "source": [
    "fig, axs = plt.subplots(3, 10, figsize=(20,5))\n",
    "im0, im1, im2 = {}, {}, {}\n",
    "for j in range(10):\n",
    "    k = j*75\n",
    "    im0 = axs[0,j].imshow(facies[k], 'jet')\n",
    "    im1 = axs[1,j].imshow(hete_fluv[k,:,:,0], 'jet')\n",
    "    im2 = axs[2,j].imshow(hete_fluv[k,:,:,1], 'jet')\n",
    "    for i in range(3):\n",
    "        axs[i,j].set(xticks=[], yticks=[])\n",
    "plt.colorbar(im0, fraction=0.046, pad=0.04)\n",
    "plt.colorbar(im1, fraction=0.046, pad=0.04)\n",
    "plt.colorbar(im2, fraction=0.046, pad=0.04)\n",
    "\n",
    "plt.show()"
   ]
  },
  {
   "attachments": {},
   "cell_type": "markdown",
   "metadata": {},
   "source": [
    "***\n",
    "# END"
   ]
  }
 ],
 "metadata": {
  "kernelspec": {
   "display_name": "deep",
   "language": "python",
   "name": "python3"
  },
  "language_info": {
   "codemirror_mode": {
    "name": "ipython",
    "version": 3
   },
   "file_extension": ".py",
   "mimetype": "text/x-python",
   "name": "python",
   "nbconvert_exporter": "python",
   "pygments_lexer": "ipython3",
   "version": "3.9.16"
  },
  "orig_nbformat": 4
 },
 "nbformat": 4,
 "nbformat_minor": 2
}
