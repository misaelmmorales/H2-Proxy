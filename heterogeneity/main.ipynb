{
 "cells": [
  {
   "cell_type": "code",
   "execution_count": 1,
   "metadata": {},
   "outputs": [],
   "source": [
    "from utils import *\n",
    "\n",
    "hete = Heterogeneity()"
   ]
  },
  {
   "cell_type": "code",
   "execution_count": 2,
   "metadata": {},
   "outputs": [
    {
     "name": "stdout",
     "output_type": "stream",
     "text": [
      "Facies shape: (1000, 256, 256)\n",
      "Permf: (1000, 65536) | Permg: (1000, 65536)\n",
      "Fluvial heterogeneity: (1000, 256, 256, 2) | Gaussian heterogeneity: (1000, 256, 256, 2)\n"
     ]
    }
   ],
   "source": [
    "facies = hete.load_facies()\n",
    "\n",
    "hete_fluv, hete_gaus = hete.load_perm_poro()"
   ]
  },
  {
   "cell_type": "code",
   "execution_count": 27,
   "metadata": {},
   "outputs": [],
   "source": [
    "porog = 10**((hete.permg-7)/10)\n",
    "porof = 10**((hete.permf-7)/10)\n",
    "\n",
    "g, f = {}, {}\n",
    "for i in range(1000):\n",
    "    pd.DataFrame(porog[i].reshape(256,256)).to_csv('data/poro_gaus/poroG{}.csv'.format(i))\n",
    "    pd.DataFrame(porof[i].reshape(256,256)).to_csv('data/poro_fluv/poroF{}.csv'.format(i))\n",
    "    pd.DataFrame(hete.permg[i].reshape(256,256)).to_csv('data/perm_gaus/logpermG{}.csv'.format(i))\n",
    "    pd.DataFrame(hete.permf[i].reshape(256,256)).to_csv('data/perm_fluv/logpermF{}.csv'.format(i))"
   ]
  },
  {
   "cell_type": "code",
   "execution_count": 39,
   "metadata": {},
   "outputs": [
    {
     "data": {
      "text/plain": [
       "(1000, 256, 256, 2)"
      ]
     },
     "execution_count": 39,
     "metadata": {},
     "output_type": "execute_result"
    }
   ],
   "source": [
    "hete.hete_fluv.shape"
   ]
  },
  {
   "cell_type": "code",
   "execution_count": 40,
   "metadata": {},
   "outputs": [],
   "source": [
    "for i in range(1000):\n",
    "    np.save('data/hete_gaus/gaussian{}.npy'.format(i), hete.hete_gaus[i])\n",
    "    np.save('data/hete_fluv/fluvial{}.npy'.format(i), hete.hete_fluv[i])"
   ]
  },
  {
   "cell_type": "code",
   "execution_count": null,
   "metadata": {},
   "outputs": [],
   "source": []
  },
  {
   "cell_type": "code",
   "execution_count": null,
   "metadata": {},
   "outputs": [],
   "source": []
  },
  {
   "cell_type": "code",
   "execution_count": null,
   "metadata": {},
   "outputs": [],
   "source": []
  },
  {
   "cell_type": "code",
   "execution_count": null,
   "metadata": {},
   "outputs": [],
   "source": [
    "fig, axs = plt.subplots(3, 10, figsize=(20,5))\n",
    "im0, im1, im2 = {}, {}, {}\n",
    "for j in range(10):\n",
    "    k = j*75\n",
    "    im0 = axs[0,j].imshow(facies[k], 'jet')\n",
    "    im1 = axs[1,j].imshow(hete_fluv[k,:,:,0], 'jet')\n",
    "    im2 = axs[2,j].imshow(hete_fluv[k,:,:,1], 'jet')\n",
    "    for i in range(3):\n",
    "        axs[i,j].set(xticks=[], yticks=[])\n",
    "plt.colorbar(im0, fraction=0.046, pad=0.04)\n",
    "plt.colorbar(im1, fraction=0.046, pad=0.04)\n",
    "plt.colorbar(im2, fraction=0.046, pad=0.04)\n",
    "\n",
    "plt.show()"
   ]
  },
  {
   "cell_type": "code",
   "execution_count": null,
   "metadata": {},
   "outputs": [],
   "source": []
  }
 ],
 "metadata": {
  "kernelspec": {
   "display_name": "deep",
   "language": "python",
   "name": "python3"
  },
  "language_info": {
   "codemirror_mode": {
    "name": "ipython",
    "version": 3
   },
   "file_extension": ".py",
   "mimetype": "text/x-python",
   "name": "python",
   "nbconvert_exporter": "python",
   "pygments_lexer": "ipython3",
   "version": "3.9.16"
  },
  "orig_nbformat": 4
 },
 "nbformat": 4,
 "nbformat_minor": 2
}
