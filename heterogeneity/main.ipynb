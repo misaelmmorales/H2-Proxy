{
 "cells": [
  {
   "cell_type": "code",
   "execution_count": 75,
   "metadata": {},
   "outputs": [],
   "source": [
    "import os, time, math\n",
    "import numpy as np\n",
    "import matplotlib.pyplot as plt\n",
    "from einops import rearrange\n",
    "\n",
    "import torch\n",
    "import torch.nn as nn\n",
    "import torch.nn.functional as F\n",
    "import torchvision.transforms as transforms\n",
    "from torchvision.ops import SqueezeExcitation\n",
    "from torchmetrics.image import StructuralSimilarityIndexMeasure as SSIM"
   ]
  },
  {
   "cell_type": "code",
   "execution_count": 70,
   "metadata": {},
   "outputs": [],
   "source": [
    "def check_torch_gpu():\n",
    "    torch_version, cuda_avail = torch.__version__, torch.cuda.is_available()\n",
    "    count, name = torch.cuda.device_count(), torch.cuda.get_device_name()\n",
    "    #py_version, conda_env_name = sys.version, sys.executable.split('\\\\')[-2]\n",
    "    print('\\n'+'-'*60)\n",
    "    print('----------------------- VERSION INFO -----------------------')\n",
    "    #print('Conda Environment: {} | Python version: {}'.format(conda_env_name, py_version))\n",
    "    print('Torch version: {}'.format(torch_version))\n",
    "    print('Torch build with CUDA? {}'.format(cuda_avail))\n",
    "    print('# Device(s) available: {}, Name(s): {}'.format(count, name))\n",
    "    print('-'*60+'\\n')\n",
    "    device = torch.device('cuda' if cuda_avail else 'cpu')\n",
    "    return device\n",
    "\n",
    "def count_params(model):\n",
    "    return sum(p.numel() for p in model.parameters() if p.requires_grad)"
   ]
  },
  {
   "cell_type": "code",
   "execution_count": 71,
   "metadata": {},
   "outputs": [
    {
     "name": "stdout",
     "output_type": "stream",
     "text": [
      "\n",
      "------------------------------------------------------------\n",
      "----------------------- VERSION INFO -----------------------\n",
      "Torch version: 2.1.0+cu121\n",
      "Torch build with CUDA? True\n",
      "# Device(s) available: 1, Name(s): NVIDIA GeForce RTX 3080\n",
      "------------------------------------------------------------\n",
      "\n"
     ]
    }
   ],
   "source": [
    "device = check_torch_gpu()"
   ]
  },
  {
   "cell_type": "code",
   "execution_count": null,
   "metadata": {},
   "outputs": [],
   "source": [
    "class CustomLoss(nn.Module):\n",
    "    def __init__(self, mse_weight=1.0, ssim_weight=1.0, todevice=True):\n",
    "        super(CustomLoss, self).__init__()\n",
    "        self.mse_weight = mse_weight\n",
    "        self.ssim_weight = ssim_weight\n",
    "        self.mse_loss = nn.MSELoss()\n",
    "        if todevice:\n",
    "          device = torch.device('cuda' if torch.cuda.is_available() else 'cpu')\n",
    "          self.ssim = SSIM().to(device)\n",
    "        else:\n",
    "          self.ssim = SSIM()\n",
    "    def forward(self, pred, target):\n",
    "        mse_loss = self.mse_loss(pred, target)\n",
    "        ssim_loss = 1.0 - self.ssim(pred, target)\n",
    "        total_loss = self.mse_weight * mse_loss + self.ssim_weight * ssim_loss\n",
    "        return total_loss"
   ]
  },
  {
   "cell_type": "code",
   "execution_count": 2,
   "metadata": {},
   "outputs": [],
   "source": [
    "class PatchEmbedding(nn.Module):\n",
    "    def __init__(self, image_size, patch_size, in_channels, embed_dim):\n",
    "        super(PatchEmbedding, self).__init__()\n",
    "        self.image_size = image_size\n",
    "        self.patch_size = patch_size\n",
    "        self.projection = nn.Conv2d(in_channels, embed_dim, kernel_size=patch_size, stride=patch_size)\n",
    "\n",
    "    def forward(self, x):\n",
    "        patches = self.projection(x)\n",
    "        patches = rearrange(patches, 'b c h w -> b (h w) c')\n",
    "        return patches"
   ]
  },
  {
   "cell_type": "code",
   "execution_count": 3,
   "metadata": {},
   "outputs": [],
   "source": [
    "class PositionalEncoding(nn.Module):\n",
    "    def __init__(self, embed_dim, max_seq_len=512):\n",
    "        super(PositionalEncoding, self).__init__()\n",
    "        position = torch.arange(0, max_seq_len).unsqueeze(1).float()\n",
    "        div_term = torch.exp(torch.arange(0, embed_dim, 2).float() * -(math.log(10000.0) / embed_dim))\n",
    "        pos_enc  = torch.zeros((1, max_seq_len, embed_dim))\n",
    "        pos_enc[0, :, 0::2] = torch.sin(position * div_term)\n",
    "        pos_enc[0, :, 1::2] = torch.cos(position * div_term)\n",
    "        self.register_buffer('pos_enc', pos_enc)\n",
    "\n",
    "    def forward(self, x):\n",
    "        return x + self.pos_enc[:, :x.size(1)].detach()"
   ]
  },
  {
   "cell_type": "code",
   "execution_count": 4,
   "metadata": {},
   "outputs": [],
   "source": [
    "class MultiHeadAttention(nn.Module):\n",
    "    def __init__(self, embed_dim, num_heads):\n",
    "        super(MultiHeadAttention, self).__init__()\n",
    "        self.embed_dim = embed_dim\n",
    "        self.num_heads = num_heads\n",
    "        self.head_dim  = embed_dim // num_heads\n",
    "\n",
    "        self.query = nn.Linear(embed_dim, embed_dim)\n",
    "        self.key   = nn.Linear(embed_dim, embed_dim)\n",
    "        self.value = nn.Linear(embed_dim, embed_dim)\n",
    "\n",
    "        self.fc_out = nn.Linear(embed_dim, embed_dim)\n",
    "\n",
    "    def forward(self, query, key, value):\n",
    "        batch_size = query.shape[0]\n",
    "        Q = self.query(query).view(batch_size, -1, self.num_heads, self.head_dim).permute(0, 2, 1, 3)\n",
    "        K = self.key(key).view(batch_size, -1, self.num_heads, self.head_dim).permute(0, 2, 1, 3)\n",
    "        V = self.value(value).view(batch_size, -1, self.num_heads, self.head_dim).permute(0, 2, 1, 3)\n",
    "        scores = torch.matmul(Q, K.permute(0, 1, 3, 2)) / torch.sqrt(torch.tensor(self.head_dim, dtype=torch.float32))\n",
    "        attention_weights = F.softmax(scores, dim=-1)\n",
    "        out = torch.matmul(attention_weights, V)\n",
    "        out = out.permute(0, 2, 1, 3).contiguous().view(batch_size, -1, self.embed_dim)\n",
    "        out = self.fc_out(out)\n",
    "        return out"
   ]
  },
  {
   "cell_type": "code",
   "execution_count": 5,
   "metadata": {},
   "outputs": [],
   "source": [
    "class MLPBlock(nn.Module):\n",
    "    def __init__(self, embed_dim, mlp_hidden_dim):\n",
    "        super(MLPBlock, self).__init__()\n",
    "        self.fc1 = nn.Linear(embed_dim, mlp_hidden_dim)\n",
    "        self.fc2 = nn.Linear(mlp_hidden_dim, embed_dim)\n",
    "\n",
    "    def forward(self, x):\n",
    "        x = F.gelu(self.fc1(x))\n",
    "        x = self.fc2(x)\n",
    "        return x"
   ]
  },
  {
   "cell_type": "code",
   "execution_count": 6,
   "metadata": {},
   "outputs": [],
   "source": [
    "class TransformerEncoderBlock(nn.Module):\n",
    "    def __init__(self, embed_dim, num_heads, mlp_hidden_dim=1024):\n",
    "        super(TransformerEncoderBlock, self).__init__()\n",
    "        self.self_attention = MultiHeadAttention(embed_dim, num_heads)\n",
    "        self.mlp_block = MLPBlock(embed_dim, mlp_hidden_dim)\n",
    "        self.norm1 = nn.LayerNorm(embed_dim)\n",
    "        self.norm2 = nn.LayerNorm(embed_dim)\n",
    "\n",
    "    def forward(self, x):\n",
    "        attention_output = self.self_attention(x, x, x)\n",
    "        x = x + attention_output\n",
    "        x = self.norm1(x)\n",
    "        mlp_output = self.mlp_block(x)\n",
    "        x = x + mlp_output\n",
    "        x = self.norm2(x)\n",
    "        return x"
   ]
  },
  {
   "cell_type": "code",
   "execution_count": 7,
   "metadata": {},
   "outputs": [],
   "source": [
    "class ViTencoder(nn.Module):\n",
    "    def __init__(self, image_size=256, latent_size=32, in_channels=3, patch_size=16, projection_dim=256, embed_dim=1024, num_heads=16, num_layers=8):\n",
    "        super(ViTencoder, self).__init__()\n",
    "        self.patch_embedding = PatchEmbedding(image_size, patch_size, in_channels, embed_dim)\n",
    "        self.positional_encoding = PositionalEncoding(embed_dim)\n",
    "        self.transformer_blocks = nn.ModuleList([TransformerEncoderBlock(embed_dim, num_heads) for _ in range(num_layers)])\n",
    "        self.global_avg_pooling = nn.AdaptiveAvgPool1d(1)\n",
    "        self.fc = nn.Linear(embed_dim, projection_dim*latent_size*latent_size)\n",
    "\n",
    "    def forward(self, x):\n",
    "        x = self.patch_embedding(x)\n",
    "        x = self.positional_encoding(x)\n",
    "        for transformer_block in self.transformer_blocks:\n",
    "            x = transformer_block(x)\n",
    "        x = self.global_avg_pooling(x.transpose(1, 2))\n",
    "        x = x.squeeze(2)\n",
    "        x = self.fc(x)\n",
    "        return x"
   ]
  },
  {
   "cell_type": "code",
   "execution_count": 64,
   "metadata": {},
   "outputs": [],
   "source": [
    "class MultiScaleResidual(nn.Module):\n",
    "    def __init__(self, image_size=256):\n",
    "        super(MultiScaleResidual, self).__init__()\n",
    "        self.image_size = image_size\n",
    "\n",
    "    def forward(self, x):\n",
    "        _, _, h, w = x.shape\n",
    "        scale = [self.image_size//h, self.image_size//w]\n",
    "        size  = (self.image_size//scale[0], self.image_size//scale[1])\n",
    "        x_ups = transforms.Resize(size, antialias=True)(x)\n",
    "        return torch.cat([x, x_ups], dim=1)"
   ]
  },
  {
   "cell_type": "code",
   "execution_count": 62,
   "metadata": {},
   "outputs": [],
   "source": [
    "class PixFormer(nn.Module):\n",
    "    def __init__(self, projection_dim=128, latent_size=32):\n",
    "        super(PixFormer, self).__init__()\n",
    "        self.projection_dim = projection_dim\n",
    "        self.latent_size    = latent_size\n",
    "        \n",
    "        self.encoder = ViTencoder(latent_size=latent_size, projection_dim=projection_dim)\n",
    "\n",
    "        self.layers = nn.Sequential(\n",
    "            self._conv_block(projection_dim, projection_dim//2),\n",
    "            self._conv_block(projection_dim//2, projection_dim//4),\n",
    "            self._conv_block(projection_dim//4, projection_dim//8),\n",
    "        )\n",
    "        self.out = nn.Conv2d(projection_dim//8, 1, kernel_size=3, padding=1)\n",
    "\n",
    "    def _conv_block(self, in_channels, out_channels):\n",
    "        return nn.Sequential(\n",
    "            nn.Conv2d(in_channels, out_channels, kernel_size=3, padding=1),\n",
    "            SqueezeExcitation(out_channels, out_channels//4),\n",
    "            nn.InstanceNorm2d(out_channels),\n",
    "            nn.PReLU(),\n",
    "            MultiScaleResidual(),\n",
    "            nn.Upsample(scale_factor=2),\n",
    "            nn.Conv2d(out_channels*2, out_channels, kernel_size=3, padding=1),\n",
    "        )\n",
    "\n",
    "    def forward(self, x):\n",
    "        x = self.encoder(x)\n",
    "        x = x.view(-1, self.projection_dim, self.latent_size, self.latent_size)\n",
    "        for layer in self.layers:\n",
    "            x = layer(x)\n",
    "        x_output = self.out(x)\n",
    "        return x_output"
   ]
  },
  {
   "cell_type": "code",
   "execution_count": 74,
   "metadata": {},
   "outputs": [
    {
     "name": "stdout",
     "output_type": "stream",
     "text": [
      "# Parameters: 185,746,560\n",
      "Inputs: torch.Size([32, 3, 256, 256]) | Outputs: torch.Size([32, 1, 256, 256])\n"
     ]
    }
   ],
   "source": [
    "model = PixFormer()\n",
    "input_tensor = torch.rand((32, 3, 256, 256))\n",
    "output = model(input_tensor)\n",
    "print('# Parameters: {:,}'.format(count_params(model)))\n",
    "print('Inputs: {} | Outputs: {}'.format(input_tensor.shape, output.shape))"
   ]
  },
  {
   "cell_type": "code",
   "execution_count": null,
   "metadata": {},
   "outputs": [],
   "source": []
  },
  {
   "cell_type": "markdown",
   "metadata": {},
   "source": [
    "***\n",
    "# END"
   ]
  }
 ],
 "metadata": {
  "kernelspec": {
   "display_name": "torchy",
   "language": "python",
   "name": "python3"
  },
  "language_info": {
   "codemirror_mode": {
    "name": "ipython",
    "version": 3
   },
   "file_extension": ".py",
   "mimetype": "text/x-python",
   "name": "python",
   "nbconvert_exporter": "python",
   "pygments_lexer": "ipython3",
   "version": "3.10.13"
  }
 },
 "nbformat": 4,
 "nbformat_minor": 2
}
