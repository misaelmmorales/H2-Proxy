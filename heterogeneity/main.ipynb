{
 "cells": [
  {
   "cell_type": "code",
   "execution_count": 1,
   "metadata": {},
   "outputs": [
    {
     "name": "stdout",
     "output_type": "stream",
     "text": [
      "-------------------------------------------------\n",
      "------------------ VERSION INFO -----------------\n",
      "Conda Environment: torchy | Python version: 3.8.16 (default, Mar  2 2023, 03:18:16) [MSC v.1916 64 bit (AMD64)]\n",
      "Torch version: 2.0.1\n",
      "Torch build with CUDA? True\n",
      "# Device(s) available: 1, Name(s): Quadro P520\n",
      "\n"
     ]
    }
   ],
   "source": [
    "from utils import *\n",
    "\n",
    "hete = Heterogeneity()\n",
    "hete.check_torch_gpu()"
   ]
  },
  {
   "cell_type": "code",
   "execution_count": 2,
   "metadata": {},
   "outputs": [
    {
     "name": "stdout",
     "output_type": "stream",
     "text": [
      "X shape: (50, 64, 64, 61, 4) | y shape: (50, 64, 64, 61, 2)\n"
     ]
    }
   ],
   "source": [
    "X_data, y_data = hete.load_xy(subsample=50)"
   ]
  },
  {
   "cell_type": "markdown",
   "metadata": {},
   "source": [
    "***\n",
    "# END"
   ]
  },
  {
   "cell_type": "code",
   "execution_count": 9,
   "metadata": {},
   "outputs": [
    {
     "name": "stdout",
     "output_type": "stream",
     "text": [
      "(3050, 4, 64, 64) (3050, 2, 64, 64)\n",
      "X_train: (2043, 4, 64, 64) | y_train: (2043, 2, 64, 64)\n",
      "X_test:  (1007, 4, 64, 64) | y_test:  (1007, 2, 64, 64)\n"
     ]
    }
   ],
   "source": [
    "x = np.moveaxis(np.moveaxis(X_data, -2, 1).reshape(X_data.shape[0]*61,64,64,4), -1, 1)\n",
    "y = np.moveaxis(np.moveaxis(y_data, -2, 1).reshape(X_data.shape[0]*61,64,64,2), -1, 1)\n",
    "print(x.shape, y.shape)\n",
    "\n",
    "X_train, X_test, y_train, y_test = train_test_split(x, y, test_size=0.33)\n",
    "print('X_train: {} | y_train: {}\\nX_test:  {} | y_test:  {}'.format(X_train.shape, y_train.shape, X_test.shape,  y_test.shape))"
   ]
  },
  {
   "cell_type": "code",
   "execution_count": null,
   "metadata": {},
   "outputs": [],
   "source": [
    "device = 'cuda'\n",
    "\n",
    "rom = h2_hete_rom().to(device)\n",
    "optimizer = Adam(rom.parameters(), lr=1e-3, weight_decay=1e-6)\n",
    "loss_fn = nn.MSELoss()\n",
    "\n",
    "loss, val_loss = [], []\n",
    "metrics = {'loss':[], 'val_loss':[]}\n",
    "epochs = 50\n",
    "batch_size = 100\n",
    "\n",
    "for epoch in range(epochs):\n",
    "    rom.train()\n",
    "    epoch_loss = 0.0\n",
    "    for i in range(0, len(X_train), batch_size):\n",
    "        inp  = torch.Tensor(X_train[i:i+batch_size]).to(device)\n",
    "        true = torch.Tensor(y_train[i:i+batch_size]).to(device)\n",
    "        optimizer.zero_grad()\n",
    "        pred = rom(inp)\n",
    "        loss = loss_fn(pred,true)\n",
    "        loss.backward()\n",
    "        optimizer.step()\n",
    "        epoch_loss += loss.item()*inp.size(0)\n",
    "    metrics['loss'].append(epoch_loss/len(X_train))\n",
    "    \n",
    "plt.figure(figsize=(4,3))\n",
    "plt.plot(metrics['loss'], label='loss')\n",
    "plt.legend(); plt.grid('on')\n",
    "plt.title('Training Loss'); plt.xlabel('epoch'); plt.ylabel('loss')\n",
    "plt.show()"
   ]
  },
  {
   "cell_type": "code",
   "execution_count": null,
   "metadata": {},
   "outputs": [],
   "source": [
    "vis_realization = 411\n",
    "\n",
    "x_true = np.moveaxis(np.moveaxis(X_data[vis_realization], -2, 0), -1, 1)\n",
    "y_true = np.moveaxis(np.moveaxis(y_data[vis_realization], -2, 0), -1, 1)\n",
    "print(x_true.shape, y_true.shape)\n",
    "\n",
    "y_pred = rom(torch.Tensor(x_true).to(device)).cpu().detach().numpy()\n",
    "print(y_pred.shape)\n",
    "\n",
    "labels = ['$\\phi$', '$P$', '$\\hat{P}$', '$|P-\\hat{P}|$', '$S$', '$\\hat{S}$', '$|S-\\hat{S}|$']\n",
    "fig, axs = plt.subplots(7, 12, figsize=(20,8))\n",
    "for j in range(12):   \n",
    "    axs[0,j].imshow(x_true[-1,0], 'jet'); axs[0,j].set(title='R{} t{}'.format(vis_realization, j*5))\n",
    "    p,  s  = y_true[j*5,0], y_true[j*5,1]\n",
    "    p_, s_ = y_pred[j*5,0], y_pred[j*5,1]\n",
    "    axs[1,j].imshow(p, 'jet')               ; axs[4,j].imshow(s, 'jet')\n",
    "    axs[2,j].imshow(p_, 'jet')              ; axs[5,j].imshow(s_, 'jet')\n",
    "    axs[3,j].imshow(np.abs(p-p_), 'binary') ; axs[6,j].imshow(np.abs(s-s_), 'binary')\n",
    "    for i in range(7):\n",
    "        axs[i,j].set(xticks=[], yticks=[])\n",
    "for i in range(7):\n",
    "    axs[i,0].set(ylabel=labels[i])\n",
    "plt.show() "
   ]
  },
  {
   "cell_type": "code",
   "execution_count": null,
   "metadata": {},
   "outputs": [],
   "source": []
  }
 ],
 "metadata": {
  "kernelspec": {
   "display_name": "deep",
   "language": "python",
   "name": "python3"
  },
  "language_info": {
   "codemirror_mode": {
    "name": "ipython",
    "version": 3
   },
   "file_extension": ".py",
   "mimetype": "text/x-python",
   "name": "python",
   "nbconvert_exporter": "python",
   "pygments_lexer": "ipython3",
   "version": "3.8.16"
  },
  "orig_nbformat": 4
 },
 "nbformat": 4,
 "nbformat_minor": 2
}
