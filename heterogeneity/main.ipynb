{
 "cells": [
  {
   "cell_type": "code",
   "execution_count": 2,
   "metadata": {},
   "outputs": [
    {
     "name": "stdout",
     "output_type": "stream",
     "text": [
      "-------------------------------------------------\n",
      "------------------ VERSION INFO -----------------\n",
      "Conda Environment: torchy | Python version: 3.8.16 (default, Mar  2 2023, 03:18:16) [MSC v.1916 64 bit (AMD64)]\n",
      "Torch version: 2.0.1\n",
      "Torch build with CUDA? True\n",
      "# Device(s) available: 1, Name(s): Quadro P520\n",
      "\n"
     ]
    }
   ],
   "source": [
    "from utils import *\n",
    "\n",
    "hete = Heterogeneity()\n",
    "hete.check_torch_gpu()\n",
    "#fluvial_dataset, gaussian_dataset = hete.load_datasets()"
   ]
  },
  {
   "cell_type": "code",
   "execution_count": 3,
   "metadata": {},
   "outputs": [],
   "source": [
    "my_dir       = 'C:/Users/381792/Documents/H2-Proxy/heterogeneity/'\n",
    "fluvial_dir  = '//dcstorage.lanl.gov/mfr/misael/depleted_gas_reservoir/2D_Fluvial'\n",
    "gaussian_dir = '//dcstorage.lanl.gov/mfr/misael/depleted_gas_reservoir/2D_Gaussian/'"
   ]
  },
  {
   "cell_type": "code",
   "execution_count": 6,
   "metadata": {},
   "outputs": [
    {
     "ename": "ValueError",
     "evalue": "could not convert string to float: \"'PRESSURE'\"",
     "output_type": "error",
     "traceback": [
      "\u001b[1;31m---------------------------------------------------------------------------\u001b[0m",
      "\u001b[1;31mValueError\u001b[0m                                Traceback (most recent call last)",
      "Cell \u001b[1;32mIn[6], line 25\u001b[0m\n\u001b[0;32m     23\u001b[0m         \u001b[39mfor\u001b[39;00m _ \u001b[39min\u001b[39;00m \u001b[39mrange\u001b[39m(math\u001b[39m.\u001b[39mceil(nx\u001b[39m*\u001b[39mny\u001b[39m*\u001b[39mnz\u001b[39m/\u001b[39m\u001b[39m4\u001b[39m)):\n\u001b[0;32m     24\u001b[0m             data\u001b[39m.\u001b[39mextend(line\u001b[39m.\u001b[39mstrip()\u001b[39m.\u001b[39msplit())\n\u001b[1;32m---> 25\u001b[0m         array \u001b[39m=\u001b[39m np\u001b[39m.\u001b[39;49marray(data, dtype\u001b[39m=\u001b[39;49m\u001b[39mfloat\u001b[39;49m)\u001b[39m.\u001b[39mreshape((nx,ny,nz), order\u001b[39m=\u001b[39m\u001b[39m'\u001b[39m\u001b[39mF\u001b[39m\u001b[39m'\u001b[39m)\n\u001b[0;32m     26\u001b[0m data_arr[folder_num\u001b[39m-\u001b[39m\u001b[39m1\u001b[39m, file_num, :, :, \u001b[39m0\u001b[39m] \u001b[39m=\u001b[39m array\n",
      "\u001b[1;31mValueError\u001b[0m: could not convert string to float: \"'PRESSURE'\""
     ]
    }
   ],
   "source": [
    "Nreal, times, nx, ny, nz = 1000, 61, 256, 256, 1\n",
    "dirname, filename = {}, {}\n",
    "df, dv = {}, {}\n",
    "\n",
    "folder_path = fluvial_dir\n",
    "\n",
    "data_arr = np.zeros((1000, 61, 256, 256, 1))\n",
    "\n",
    "for folder_num in range(1, 1001):\n",
    "    folder_name = '{}UHSS'.format(folder_num)\n",
    "    folder_dir = os.path.join(folder_path, folder_name)\n",
    "\n",
    "    for file_num in range(61):\n",
    "        file_name = '{}UHSS_{}.FUNRST'.format(folder_num, file_num)\n",
    "        file_path = os.path.join(folder_dir, file_name)\n",
    "\n",
    "        with open(file_path, \"r\") as file:\n",
    "            lines = file.readlines()\n",
    "            for line in lines:\n",
    "                if f\"{nx*ny*nz} 'REAL'\" in line:\n",
    "                    key = line[2:10].strip()\n",
    "                    data = []\n",
    "                    for _ in range(math.ceil(nx*ny*nz/4)):\n",
    "                        data.extend(line.strip().split())\n",
    "                    array = np.array(data, dtype=float).reshape((nx,ny,nz), order='F')\n",
    "            data_arr[folder_num-1, file_num, :, :, 0] = array"
   ]
  },
  {
   "cell_type": "code",
   "execution_count": 5,
   "metadata": {},
   "outputs": [
    {
     "data": {
      "text/plain": [
       "'PERMX'"
      ]
     },
     "execution_count": 5,
     "metadata": {},
     "output_type": "execute_result"
    }
   ],
   "source": [
    "key"
   ]
  },
  {
   "attachments": {},
   "cell_type": "markdown",
   "metadata": {},
   "source": [
    "***\n",
    "# END"
   ]
  }
 ],
 "metadata": {
  "kernelspec": {
   "display_name": "deep",
   "language": "python",
   "name": "python3"
  },
  "language_info": {
   "codemirror_mode": {
    "name": "ipython",
    "version": 3
   },
   "file_extension": ".py",
   "mimetype": "text/x-python",
   "name": "python",
   "nbconvert_exporter": "python",
   "pygments_lexer": "ipython3",
   "version": "3.8.16"
  },
  "orig_nbformat": 4
 },
 "nbformat": 4,
 "nbformat_minor": 2
}
