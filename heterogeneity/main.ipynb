{
 "cells": [
  {
   "cell_type": "code",
   "execution_count": 1,
   "metadata": {},
   "outputs": [
    {
     "name": "stdout",
     "output_type": "stream",
     "text": [
      "-------------------------------------------------\n",
      "------------------ VERSION INFO -----------------\n",
      "Conda Environment: torchy | Python version: 3.8.16 (default, Mar  2 2023, 03:18:16) [MSC v.1916 64 bit (AMD64)]\n",
      "Torch version: 2.0.1\n",
      "Torch build with CUDA? True\n",
      "# Device(s) available: 1, Name(s): Quadro P520\n",
      "\n"
     ]
    }
   ],
   "source": [
    "from utils import *\n",
    "\n",
    "hete = Heterogeneity()\n",
    "hete.check_torch_gpu()"
   ]
  },
  {
   "cell_type": "markdown",
   "metadata": {},
   "source": [
    "***\n",
    "# END"
   ]
  },
  {
   "cell_type": "code",
   "execution_count": 290,
   "metadata": {},
   "outputs": [],
   "source": [
    "class Generator(nn.Module):\n",
    "    def __init__(self, input_channels, output_channels):\n",
    "        super(Generator, self).__init__()\n",
    "        # Define the architecture of the generator\n",
    "        self.encoder = nn.Sequential(\n",
    "            nn.Conv2d(input_channels, 64, kernel_size=4, stride=2, padding=1),\n",
    "            nn.ReLU(True),\n",
    "            nn.Conv2d(64, 128, kernel_size=4, stride=2, padding=1),\n",
    "            nn.BatchNorm2d(128),\n",
    "            nn.ReLU(True),\n",
    "            nn.Conv2d(128, 256, kernel_size=4, stride=2, padding=1),\n",
    "            nn.BatchNorm2d(256),\n",
    "            nn.ReLU(True),\n",
    "            nn.Conv2d(256, 512, kernel_size=4, stride=2, padding=1),\n",
    "            nn.BatchNorm2d(512),\n",
    "            nn.ReLU(True),\n",
    "            nn.Conv2d(512, 512, kernel_size=4, stride=2, padding=1),\n",
    "            nn.BatchNorm2d(512),\n",
    "            nn.ReLU(True),\n",
    "            nn.Conv2d(512, 512, kernel_size=4, stride=2, padding=1),\n",
    "            nn.BatchNorm2d(512),\n",
    "            nn.ReLU(True),\n",
    "            nn.Conv2d(512, 512, kernel_size=4, stride=2, padding=1),\n",
    "            nn.BatchNorm2d(512),\n",
    "            nn.ReLU(True)\n",
    "        )\n",
    "        self.decoder = nn.Sequential(\n",
    "            nn.ConvTranspose2d(512, 512, kernel_size=4, stride=2, padding=1),\n",
    "            nn.BatchNorm2d(512),\n",
    "            nn.ReLU(True),\n",
    "            nn.ConvTranspose2d(512, 512, kernel_size=4, stride=2, padding=1),\n",
    "            nn.BatchNorm2d(512),\n",
    "            nn.ReLU(True),\n",
    "            nn.ConvTranspose2d(512, 256, kernel_size=4, stride=2, padding=1),\n",
    "            nn.BatchNorm2d(256),\n",
    "            nn.ReLU(True),\n",
    "            nn.ConvTranspose2d(256, 128, kernel_size=4, stride=2, padding=1),\n",
    "            nn.BatchNorm2d(128),\n",
    "            nn.ReLU(True),\n",
    "            nn.ConvTranspose2d(128, 64, kernel_size=4, stride=2, padding=1),\n",
    "            nn.BatchNorm2d(64),\n",
    "            nn.ReLU(True),\n",
    "            nn.ConvTranspose2d(64, output_channels, kernel_size=4, stride=2, padding=1),\n",
    "            nn.Tanh()\n",
    "        )\n",
    "\n",
    "    def forward(self, x):\n",
    "        # Forward pass of the generator\n",
    "        encoded = self.encoder(x)\n",
    "        decoded = self.decoder(encoded)\n",
    "        return decoded"
   ]
  },
  {
   "cell_type": "code",
   "execution_count": 291,
   "metadata": {},
   "outputs": [],
   "source": [
    "class Discriminator(nn.Module):\n",
    "    def __init__(self, input_channels):\n",
    "        super(Discriminator, self).__init__()\n",
    "        # Define the architecture of the discriminator\n",
    "        self.model = nn.Sequential(\n",
    "            nn.Conv2d(input_channels, 64, kernel_size=4, stride=2, padding=1),\n",
    "            nn.LeakyReLU(0.2, inplace=True),\n",
    "            nn.Conv2d(64, 128, kernel_size=4, stride=2, padding=1),\n",
    "            nn.BatchNorm2d(128),\n",
    "            nn.LeakyReLU(0.2, inplace=True),\n",
    "            nn.Conv2d(128, 256, kernel_size=4, stride=2, padding=1),\n",
    "            nn.BatchNorm2d(256),\n",
    "            nn.LeakyReLU(0.2, inplace=True),\n",
    "            nn.Conv2d(256, 512, kernel_size=4, stride=1, padding=1),\n",
    "            nn.BatchNorm2d(512),\n",
    "            nn.LeakyReLU(0.2, inplace=True),\n",
    "            nn.Conv2d(512, 1, kernel_size=4, stride=1, padding=1),\n",
    "            nn.Sigmoid()\n",
    "        )\n",
    "\n",
    "    def forward(self, x):\n",
    "        # Forward pass of the discriminator\n",
    "        output = self.model(x)\n",
    "        return output"
   ]
  },
  {
   "cell_type": "code",
   "execution_count": 289,
   "metadata": {},
   "outputs": [],
   "source": [
    "x0 = np.moveaxis(np.moveaxis(X_data, -1, 1), -1, 1).reshape(20*61,4,64,64)\n",
    "y0 = np.moveaxis(np.moveaxis(y_data, -1, 1), -1, 1).reshape(20*61,2,64,64)\n",
    "\n",
    "X = torch.from_numpy(x0).float()\n",
    "y = torch.from_numpy(y0).float()"
   ]
  },
  {
   "cell_type": "code",
   "execution_count": 306,
   "metadata": {},
   "outputs": [],
   "source": [
    "G_XY = Generator(input_channels=4, output_channels=2)\n",
    "G_YX = Generator(input_channels=2, output_channels=4)\n",
    "\n",
    "D_X = Discriminator(input_channels=4)\n",
    "D_Y = Discriminator(input_channels=2)"
   ]
  },
  {
   "cell_type": "code",
   "execution_count": 307,
   "metadata": {},
   "outputs": [],
   "source": [
    "criterion_GAN   = nn.MSELoss()  \n",
    "criterion_cycle = nn.L1Loss() \n",
    "\n",
    "optimizer_G   = Adam(list(G_XY.parameters()) + list(G_YX.parameters()), lr=0.0002, betas=(0.5, 0.999))\n",
    "optimizer_D_X = Adam(D_X.parameters(), lr=0.0002, betas=(0.5, 0.999))\n",
    "optimizer_D_Y = Adam(D_Y.parameters(), lr=0.0002, betas=(0.5, 0.999))\n",
    "\n",
    "num_epochs = 10\n",
    "batch_size = 2"
   ]
  },
  {
   "cell_type": "code",
   "execution_count": 308,
   "metadata": {},
   "outputs": [
    {
     "ename": "RuntimeError",
     "evalue": "Given groups=1, weight of size [64, 2, 4, 4], expected input[1, 4, 64, 64] to have 2 channels, but got 4 channels instead",
     "output_type": "error",
     "traceback": [
      "\u001b[1;31m---------------------------------------------------------------------------\u001b[0m",
      "\u001b[1;31mRuntimeError\u001b[0m                              Traceback (most recent call last)",
      "Cell \u001b[1;32mIn[308], line 13\u001b[0m\n\u001b[0;32m     10\u001b[0m optimizer_G\u001b[39m.\u001b[39mzero_grad()\n\u001b[0;32m     12\u001b[0m \u001b[39m# Identity loss\u001b[39;00m\n\u001b[1;32m---> 13\u001b[0m loss_identity_X \u001b[39m=\u001b[39m criterion_cycle(G_YX(real_X), real_X)\n\u001b[0;32m     14\u001b[0m loss_identity_Y \u001b[39m=\u001b[39m criterion_cycle(G_XY(real_Y), real_Y)\n\u001b[0;32m     16\u001b[0m \u001b[39m# GAN loss\u001b[39;00m\n",
      "File \u001b[1;32mc:\\Users\\381792\\AppData\\Local\\anaconda3\\envs\\torchy\\lib\\site-packages\\torch\\nn\\modules\\module.py:1501\u001b[0m, in \u001b[0;36mModule._call_impl\u001b[1;34m(self, *args, **kwargs)\u001b[0m\n\u001b[0;32m   1496\u001b[0m \u001b[39m# If we don't have any hooks, we want to skip the rest of the logic in\u001b[39;00m\n\u001b[0;32m   1497\u001b[0m \u001b[39m# this function, and just call forward.\u001b[39;00m\n\u001b[0;32m   1498\u001b[0m \u001b[39mif\u001b[39;00m \u001b[39mnot\u001b[39;00m (\u001b[39mself\u001b[39m\u001b[39m.\u001b[39m_backward_hooks \u001b[39mor\u001b[39;00m \u001b[39mself\u001b[39m\u001b[39m.\u001b[39m_backward_pre_hooks \u001b[39mor\u001b[39;00m \u001b[39mself\u001b[39m\u001b[39m.\u001b[39m_forward_hooks \u001b[39mor\u001b[39;00m \u001b[39mself\u001b[39m\u001b[39m.\u001b[39m_forward_pre_hooks\n\u001b[0;32m   1499\u001b[0m         \u001b[39mor\u001b[39;00m _global_backward_pre_hooks \u001b[39mor\u001b[39;00m _global_backward_hooks\n\u001b[0;32m   1500\u001b[0m         \u001b[39mor\u001b[39;00m _global_forward_hooks \u001b[39mor\u001b[39;00m _global_forward_pre_hooks):\n\u001b[1;32m-> 1501\u001b[0m     \u001b[39mreturn\u001b[39;00m forward_call(\u001b[39m*\u001b[39;49margs, \u001b[39m*\u001b[39;49m\u001b[39m*\u001b[39;49mkwargs)\n\u001b[0;32m   1502\u001b[0m \u001b[39m# Do not call functions when jit is used\u001b[39;00m\n\u001b[0;32m   1503\u001b[0m full_backward_hooks, non_full_backward_hooks \u001b[39m=\u001b[39m [], []\n",
      "Cell \u001b[1;32mIn[290], line 49\u001b[0m, in \u001b[0;36mGenerator.forward\u001b[1;34m(self, x)\u001b[0m\n\u001b[0;32m     47\u001b[0m \u001b[39mdef\u001b[39;00m \u001b[39mforward\u001b[39m(\u001b[39mself\u001b[39m, x):\n\u001b[0;32m     48\u001b[0m     \u001b[39m# Forward pass of the generator\u001b[39;00m\n\u001b[1;32m---> 49\u001b[0m     encoded \u001b[39m=\u001b[39m \u001b[39mself\u001b[39;49m\u001b[39m.\u001b[39;49mencoder(x)\n\u001b[0;32m     50\u001b[0m     decoded \u001b[39m=\u001b[39m \u001b[39mself\u001b[39m\u001b[39m.\u001b[39mdecoder(encoded)\n\u001b[0;32m     51\u001b[0m     \u001b[39mreturn\u001b[39;00m decoded\n",
      "File \u001b[1;32mc:\\Users\\381792\\AppData\\Local\\anaconda3\\envs\\torchy\\lib\\site-packages\\torch\\nn\\modules\\module.py:1501\u001b[0m, in \u001b[0;36mModule._call_impl\u001b[1;34m(self, *args, **kwargs)\u001b[0m\n\u001b[0;32m   1496\u001b[0m \u001b[39m# If we don't have any hooks, we want to skip the rest of the logic in\u001b[39;00m\n\u001b[0;32m   1497\u001b[0m \u001b[39m# this function, and just call forward.\u001b[39;00m\n\u001b[0;32m   1498\u001b[0m \u001b[39mif\u001b[39;00m \u001b[39mnot\u001b[39;00m (\u001b[39mself\u001b[39m\u001b[39m.\u001b[39m_backward_hooks \u001b[39mor\u001b[39;00m \u001b[39mself\u001b[39m\u001b[39m.\u001b[39m_backward_pre_hooks \u001b[39mor\u001b[39;00m \u001b[39mself\u001b[39m\u001b[39m.\u001b[39m_forward_hooks \u001b[39mor\u001b[39;00m \u001b[39mself\u001b[39m\u001b[39m.\u001b[39m_forward_pre_hooks\n\u001b[0;32m   1499\u001b[0m         \u001b[39mor\u001b[39;00m _global_backward_pre_hooks \u001b[39mor\u001b[39;00m _global_backward_hooks\n\u001b[0;32m   1500\u001b[0m         \u001b[39mor\u001b[39;00m _global_forward_hooks \u001b[39mor\u001b[39;00m _global_forward_pre_hooks):\n\u001b[1;32m-> 1501\u001b[0m     \u001b[39mreturn\u001b[39;00m forward_call(\u001b[39m*\u001b[39;49margs, \u001b[39m*\u001b[39;49m\u001b[39m*\u001b[39;49mkwargs)\n\u001b[0;32m   1502\u001b[0m \u001b[39m# Do not call functions when jit is used\u001b[39;00m\n\u001b[0;32m   1503\u001b[0m full_backward_hooks, non_full_backward_hooks \u001b[39m=\u001b[39m [], []\n",
      "File \u001b[1;32mc:\\Users\\381792\\AppData\\Local\\anaconda3\\envs\\torchy\\lib\\site-packages\\torch\\nn\\modules\\container.py:217\u001b[0m, in \u001b[0;36mSequential.forward\u001b[1;34m(self, input)\u001b[0m\n\u001b[0;32m    215\u001b[0m \u001b[39mdef\u001b[39;00m \u001b[39mforward\u001b[39m(\u001b[39mself\u001b[39m, \u001b[39minput\u001b[39m):\n\u001b[0;32m    216\u001b[0m     \u001b[39mfor\u001b[39;00m module \u001b[39min\u001b[39;00m \u001b[39mself\u001b[39m:\n\u001b[1;32m--> 217\u001b[0m         \u001b[39minput\u001b[39m \u001b[39m=\u001b[39m module(\u001b[39minput\u001b[39;49m)\n\u001b[0;32m    218\u001b[0m     \u001b[39mreturn\u001b[39;00m \u001b[39minput\u001b[39m\n",
      "File \u001b[1;32mc:\\Users\\381792\\AppData\\Local\\anaconda3\\envs\\torchy\\lib\\site-packages\\torch\\nn\\modules\\module.py:1501\u001b[0m, in \u001b[0;36mModule._call_impl\u001b[1;34m(self, *args, **kwargs)\u001b[0m\n\u001b[0;32m   1496\u001b[0m \u001b[39m# If we don't have any hooks, we want to skip the rest of the logic in\u001b[39;00m\n\u001b[0;32m   1497\u001b[0m \u001b[39m# this function, and just call forward.\u001b[39;00m\n\u001b[0;32m   1498\u001b[0m \u001b[39mif\u001b[39;00m \u001b[39mnot\u001b[39;00m (\u001b[39mself\u001b[39m\u001b[39m.\u001b[39m_backward_hooks \u001b[39mor\u001b[39;00m \u001b[39mself\u001b[39m\u001b[39m.\u001b[39m_backward_pre_hooks \u001b[39mor\u001b[39;00m \u001b[39mself\u001b[39m\u001b[39m.\u001b[39m_forward_hooks \u001b[39mor\u001b[39;00m \u001b[39mself\u001b[39m\u001b[39m.\u001b[39m_forward_pre_hooks\n\u001b[0;32m   1499\u001b[0m         \u001b[39mor\u001b[39;00m _global_backward_pre_hooks \u001b[39mor\u001b[39;00m _global_backward_hooks\n\u001b[0;32m   1500\u001b[0m         \u001b[39mor\u001b[39;00m _global_forward_hooks \u001b[39mor\u001b[39;00m _global_forward_pre_hooks):\n\u001b[1;32m-> 1501\u001b[0m     \u001b[39mreturn\u001b[39;00m forward_call(\u001b[39m*\u001b[39;49margs, \u001b[39m*\u001b[39;49m\u001b[39m*\u001b[39;49mkwargs)\n\u001b[0;32m   1502\u001b[0m \u001b[39m# Do not call functions when jit is used\u001b[39;00m\n\u001b[0;32m   1503\u001b[0m full_backward_hooks, non_full_backward_hooks \u001b[39m=\u001b[39m [], []\n",
      "File \u001b[1;32mc:\\Users\\381792\\AppData\\Local\\anaconda3\\envs\\torchy\\lib\\site-packages\\torch\\nn\\modules\\conv.py:463\u001b[0m, in \u001b[0;36mConv2d.forward\u001b[1;34m(self, input)\u001b[0m\n\u001b[0;32m    462\u001b[0m \u001b[39mdef\u001b[39;00m \u001b[39mforward\u001b[39m(\u001b[39mself\u001b[39m, \u001b[39minput\u001b[39m: Tensor) \u001b[39m-\u001b[39m\u001b[39m>\u001b[39m Tensor:\n\u001b[1;32m--> 463\u001b[0m     \u001b[39mreturn\u001b[39;00m \u001b[39mself\u001b[39;49m\u001b[39m.\u001b[39;49m_conv_forward(\u001b[39minput\u001b[39;49m, \u001b[39mself\u001b[39;49m\u001b[39m.\u001b[39;49mweight, \u001b[39mself\u001b[39;49m\u001b[39m.\u001b[39;49mbias)\n",
      "File \u001b[1;32mc:\\Users\\381792\\AppData\\Local\\anaconda3\\envs\\torchy\\lib\\site-packages\\torch\\nn\\modules\\conv.py:459\u001b[0m, in \u001b[0;36mConv2d._conv_forward\u001b[1;34m(self, input, weight, bias)\u001b[0m\n\u001b[0;32m    455\u001b[0m \u001b[39mif\u001b[39;00m \u001b[39mself\u001b[39m\u001b[39m.\u001b[39mpadding_mode \u001b[39m!=\u001b[39m \u001b[39m'\u001b[39m\u001b[39mzeros\u001b[39m\u001b[39m'\u001b[39m:\n\u001b[0;32m    456\u001b[0m     \u001b[39mreturn\u001b[39;00m F\u001b[39m.\u001b[39mconv2d(F\u001b[39m.\u001b[39mpad(\u001b[39minput\u001b[39m, \u001b[39mself\u001b[39m\u001b[39m.\u001b[39m_reversed_padding_repeated_twice, mode\u001b[39m=\u001b[39m\u001b[39mself\u001b[39m\u001b[39m.\u001b[39mpadding_mode),\n\u001b[0;32m    457\u001b[0m                     weight, bias, \u001b[39mself\u001b[39m\u001b[39m.\u001b[39mstride,\n\u001b[0;32m    458\u001b[0m                     _pair(\u001b[39m0\u001b[39m), \u001b[39mself\u001b[39m\u001b[39m.\u001b[39mdilation, \u001b[39mself\u001b[39m\u001b[39m.\u001b[39mgroups)\n\u001b[1;32m--> 459\u001b[0m \u001b[39mreturn\u001b[39;00m F\u001b[39m.\u001b[39;49mconv2d(\u001b[39minput\u001b[39;49m, weight, bias, \u001b[39mself\u001b[39;49m\u001b[39m.\u001b[39;49mstride,\n\u001b[0;32m    460\u001b[0m                 \u001b[39mself\u001b[39;49m\u001b[39m.\u001b[39;49mpadding, \u001b[39mself\u001b[39;49m\u001b[39m.\u001b[39;49mdilation, \u001b[39mself\u001b[39;49m\u001b[39m.\u001b[39;49mgroups)\n",
      "\u001b[1;31mRuntimeError\u001b[0m: Given groups=1, weight of size [64, 2, 4, 4], expected input[1, 4, 64, 64] to have 2 channels, but got 4 channels instead"
     ]
    }
   ],
   "source": [
    "for epoch in range(num_epochs):\n",
    "    for i in range(len(X)):\n",
    "        real_X = Variable(X[i]).unsqueeze(0)\n",
    "        real_Y = Variable(y[i]).unsqueeze(0)\n",
    "\n",
    "        # --------------------\n",
    "        # Training generators\n",
    "        # --------------------\n",
    "\n",
    "        optimizer_G.zero_grad()\n",
    "\n",
    "        # Identity loss\n",
    "        loss_identity_X = criterion_cycle(G_YX(real_X), real_X)\n",
    "        loss_identity_Y = criterion_cycle(G_XY(real_Y), real_Y)\n",
    "\n",
    "        # GAN loss\n",
    "        fake_Y = G_XY(real_X)\n",
    "        pred_fake_Y = D_Y(torch.cat((real_X, fake_Y), 1))\n",
    "        loss_GAN_XY = criterion_GAN(pred_fake_Y, torch.ones(pred_fake_Y.size()))\n",
    "\n",
    "        fake_X = G_YX(real_Y)\n",
    "        pred_fake_X = D_X(torch.cat((real_Y, fake_X), 1))\n",
    "        loss_GAN_YX = criterion_GAN(pred_fake_X, torch.ones(pred_fake_X.size()))\n",
    "\n",
    "        # Cycle consistency loss\n",
    "        recovered_X = G_YX(fake_Y)\n",
    "        loss_cycle_X = criterion_cycle(recovered_X, real_X)\n",
    "\n",
    "        recovered_Y = G_XY(fake_X)\n",
    "        loss_cycle_Y = criterion_cycle(recovered_Y, real_Y)\n",
    "\n",
    "        # Total generator loss\n",
    "        loss_G = loss_identity_X + loss_identity_Y + loss_GAN_XY + loss_GAN_YX + lambda_cycle * (loss_cycle_X + loss_cycle_Y)\n",
    "\n",
    "        # Backward and optimize\n",
    "        loss_G.backward()\n",
    "        optimizer_G.step()\n",
    "\n",
    "        # ------------------------\n",
    "        # Training discriminators\n",
    "        # ------------------------\n",
    "\n",
    "        optimizer_D_X.zero_grad()\n",
    "\n",
    "        # Real loss\n",
    "        pred_real_X = D_X(torch.cat((real_Y, real_X), 1))\n",
    "        loss_D_X_real = criterion_GAN(pred_real_X, torch.ones(pred_real_X.size()))\n",
    "\n",
    "        # Fake loss\n",
    "        fake_X = G_YX(real_Y)\n",
    "        pred_fake_X = D_X(torch.cat((real_Y, fake_X.detach()), 1))\n",
    "        loss_D_X_fake = criterion_GAN(pred_fake_X, torch.zeros(pred_fake_X.size()))\n",
    "\n",
    "        # Total discriminator X loss\n",
    "        loss_D_X = (loss_D_X_real + loss_D_X_fake) * 0.5\n",
    "\n",
    "        # Backward and optimize\n",
    "        loss_D_X.backward()\n",
    "        optimizer_D_X.step()\n",
    "\n",
    "        optimizer_D_Y.zero_grad()\n",
    "\n",
    "        # Real loss\n",
    "        pred_real_Y = D_Y(torch.cat((real_X, real_Y), 1))\n",
    "        loss_D_Y_real = criterion_GAN(pred_real_Y, torch.ones(pred_real_Y.size()))\n",
    "\n",
    "        # Fake loss\n",
    "        fake_Y = G_XY(real_X)\n",
    "        pred_fake_Y = D_Y(torch.cat((real_X, fake_Y.detach()), 1))\n",
    "        loss_D_Y_fake = criterion_GAN(pred_fake_Y, torch.zeros(pred_fake_Y.size()))\n",
    "\n",
    "        # Total discriminator Y loss\n",
    "        loss_D_Y = (loss_D_Y_real + loss_D_Y_fake) * 0.5\n",
    "\n",
    "        # Backward and optimize\n",
    "        loss_D_Y.backward()\n",
    "        optimizer_D_Y.step()\n",
    "\n",
    "        # Print the losses\n",
    "        if (i + 1) % print_freq == 0:\n",
    "            print(f\"Epoch [{epoch+1}/{num_epochs}], Step [{i+1}/{len(X)}], Loss_D_X: {loss_D_X.item():.4f}, Loss_D_Y: {loss_D_Y.item():.4f}, Loss_G: {loss_G.item():.4f}\")\n",
    "\n",
    "    # Save the generated images\n",
    "    if (epoch + 1) % save_freq == 0:\n",
    "        with torch.no_grad():\n",
    "            fake_Y = G_XY(real_X)\n",
    "            fake_X = G_YX(real_Y)\n",
    "            save_image(fake_Y, f\"generated_images/fake_Y_{epoch+1}.png\", normalize=True)\n",
    "            save_image(fake_X, f\"generated_images/fake_X_{epoch+1}.png\", normalize=True)\n",
    "\n",
    "    # Print the epoch and save the models\n",
    "    if (epoch + 1) % save_freq == 0:\n",
    "        print(f\"Epoch [{epoch+1}/{num_epochs}] completed. Saving models...\")\n",
    "        torch.save(G_XY.state_dict(), f\"models/G_XY_{epoch+1}.pt\")\n",
    "        torch.save(G_YX.state_dict(), f\"models/G_YX_{epoch+1}.pt\")\n",
    "        torch.save(D_X.state_dict(), f\"models/D_X_{epoch+1}.pt\")\n",
    "        torch.save(D_Y.state_dict(), f\"models/D_Y_{epoch+1}.pt\")"
   ]
  },
  {
   "cell_type": "code",
   "execution_count": null,
   "metadata": {},
   "outputs": [],
   "source": []
  },
  {
   "cell_type": "code",
   "execution_count": null,
   "metadata": {},
   "outputs": [],
   "source": []
  },
  {
   "cell_type": "code",
   "execution_count": null,
   "metadata": {},
   "outputs": [],
   "source": []
  },
  {
   "cell_type": "code",
   "execution_count": 162,
   "metadata": {},
   "outputs": [
    {
     "name": "stdout",
     "output_type": "stream",
     "text": [
      "x: torch.Size([1220, 4, 64, 64])\n",
      "z: torch.Size([1220, 500])\n"
     ]
    },
    {
     "ename": "TypeError",
     "evalue": "expected Tensor as element 0 in argument 0, but got Sequential",
     "output_type": "error",
     "traceback": [
      "\u001b[1;31m---------------------------------------------------------------------------\u001b[0m",
      "\u001b[1;31mTypeError\u001b[0m                                 Traceback (most recent call last)",
      "Cell \u001b[1;32mIn[162], line 10\u001b[0m\n\u001b[0;32m      7\u001b[0m z \u001b[39m=\u001b[39m enc(x)\n\u001b[0;32m      8\u001b[0m \u001b[39mprint\u001b[39m(\u001b[39m'\u001b[39m\u001b[39mz:\u001b[39m\u001b[39m'\u001b[39m, z\u001b[39m.\u001b[39mshape)\n\u001b[1;32m---> 10\u001b[0m y \u001b[39m=\u001b[39m dec(z)\n\u001b[0;32m     11\u001b[0m \u001b[39mprint\u001b[39m(\u001b[39m'\u001b[39m\u001b[39my:\u001b[39m\u001b[39m'\u001b[39m, y\u001b[39m.\u001b[39mshape)\n",
      "File \u001b[1;32mc:\\Users\\381792\\AppData\\Local\\anaconda3\\envs\\torchy\\lib\\site-packages\\torch\\nn\\modules\\module.py:1501\u001b[0m, in \u001b[0;36mModule._call_impl\u001b[1;34m(self, *args, **kwargs)\u001b[0m\n\u001b[0;32m   1496\u001b[0m \u001b[39m# If we don't have any hooks, we want to skip the rest of the logic in\u001b[39;00m\n\u001b[0;32m   1497\u001b[0m \u001b[39m# this function, and just call forward.\u001b[39;00m\n\u001b[0;32m   1498\u001b[0m \u001b[39mif\u001b[39;00m \u001b[39mnot\u001b[39;00m (\u001b[39mself\u001b[39m\u001b[39m.\u001b[39m_backward_hooks \u001b[39mor\u001b[39;00m \u001b[39mself\u001b[39m\u001b[39m.\u001b[39m_backward_pre_hooks \u001b[39mor\u001b[39;00m \u001b[39mself\u001b[39m\u001b[39m.\u001b[39m_forward_hooks \u001b[39mor\u001b[39;00m \u001b[39mself\u001b[39m\u001b[39m.\u001b[39m_forward_pre_hooks\n\u001b[0;32m   1499\u001b[0m         \u001b[39mor\u001b[39;00m _global_backward_pre_hooks \u001b[39mor\u001b[39;00m _global_backward_hooks\n\u001b[0;32m   1500\u001b[0m         \u001b[39mor\u001b[39;00m _global_forward_hooks \u001b[39mor\u001b[39;00m _global_forward_pre_hooks):\n\u001b[1;32m-> 1501\u001b[0m     \u001b[39mreturn\u001b[39;00m forward_call(\u001b[39m*\u001b[39;49margs, \u001b[39m*\u001b[39;49m\u001b[39m*\u001b[39;49mkwargs)\n\u001b[0;32m   1502\u001b[0m \u001b[39m# Do not call functions when jit is used\u001b[39;00m\n\u001b[0;32m   1503\u001b[0m full_backward_hooks, non_full_backward_hooks \u001b[39m=\u001b[39m [], []\n",
      "Cell \u001b[1;32mIn[161], line 46\u001b[0m, in \u001b[0;36mDecoder.forward\u001b[1;34m(self, x)\u001b[0m\n\u001b[0;32m     44\u001b[0m x \u001b[39m=\u001b[39m x\u001b[39m.\u001b[39mview(\u001b[39m-\u001b[39m\u001b[39m1\u001b[39m, \u001b[39m8\u001b[39m\u001b[39m*\u001b[39m\u001b[39mself\u001b[39m\u001b[39m.\u001b[39mout_channels, \u001b[39m4\u001b[39m, \u001b[39m4\u001b[39m)\n\u001b[0;32m     45\u001b[0m x \u001b[39m=\u001b[39m \u001b[39mself\u001b[39m\u001b[39m.\u001b[39mconvT1(x)\n\u001b[1;32m---> 46\u001b[0m x \u001b[39m=\u001b[39m \u001b[39mself\u001b[39m\u001b[39m.\u001b[39mconvD1(torch\u001b[39m.\u001b[39;49mcat([enc\u001b[39m.\u001b[39;49mdown_conv3, x]))\n\u001b[0;32m     47\u001b[0m x \u001b[39m=\u001b[39m \u001b[39mself\u001b[39m\u001b[39m.\u001b[39mconvT2(x)\n\u001b[0;32m     48\u001b[0m x \u001b[39m=\u001b[39m \u001b[39mself\u001b[39m\u001b[39m.\u001b[39mconvD2(x)\n",
      "\u001b[1;31mTypeError\u001b[0m: expected Tensor as element 0 in argument 0, but got Sequential"
     ]
    }
   ],
   "source": [
    "enc = Encoder()\n",
    "dec = Decoder()\n",
    "\n",
    "x = torch.Tensor(np.moveaxis(np.moveaxis(X_data, -2, 1).reshape(20*61, 64, 64, 4), -1, 1))\n",
    "print('x:', x.shape)\n",
    "\n",
    "z = enc(x)\n",
    "print('z:', z.shape)\n",
    "\n",
    "y = dec(z)\n",
    "print('y:', y.shape)"
   ]
  },
  {
   "cell_type": "code",
   "execution_count": 72,
   "metadata": {},
   "outputs": [],
   "source": [
    "        self.up_transpose_1   = nn.ConvTranspose2d(256, 128, kernel_size=2, stride=2)\n",
    "        self.up_convolution_1 = double_convolution(256, 128)\n",
    "        self.up_transpose_2   = nn.ConvTranspose2d(128, 64, kernel_size=2, stride=2)\n",
    "        self.up_convolution_2 = double_convolution(128, 64)\n",
    "        self.up_transpose_3   = nn.ConvTranspose2d(64, 32, kernel_size=2, stride=2)\n",
    "        self.up_convolution_3 = double_convolution(64, 32)\n",
    "        self.up_transpose_4   = nn.ConvTranspose2d(32, 16, kernel_size=2,  stride=2)\n",
    "        self.up_convolution_4 = double_convolution(32, 16)\n",
    "        self.out = nn.Conv2d(16, 2, kernel_size=1) \n",
    "        \n",
    "    def forward(self, x):\n",
    "        down_1 = self.down_convolution_1(x)\n",
    "        down_2 = self.max_pool2d(down_1)\n",
    "        down_3 = self.down_convolution_2(down_2)\n",
    "        down_4 = self.max_pool2d(down_3)\n",
    "        down_5 = self.down_convolution_3(down_4)\n",
    "        down_6 = self.max_pool2d(down_5)\n",
    "        down_7 = self.down_convolution_4(down_6)\n",
    "        down_8 = self.max_pool2d(down_7)\n",
    "        down_9 = self.down_convolution_5(down_8)   \n",
    "             \n",
    "        up_1 = self.up_transpose_1(down_9)\n",
    "        x    = self.up_convolution_1(torch.cat([down_7, up_1], 1))\n",
    "        up_2 = self.up_transpose_2(x)\n",
    "        x    = self.up_convolution_2(torch.cat([down_5, up_2], 1))\n",
    "        up_3 = self.up_transpose_3(x)\n",
    "        x    = self.up_convolution_3(torch.cat([down_3, up_3], 1))\n",
    "        up_4 = self.up_transpose_4(x)\n",
    "        x    = self.up_convolution_4(torch.cat([down_1, up_4], 1))\n",
    "        out   = self.out(x)\n",
    "        return out"
   ]
  },
  {
   "cell_type": "code",
   "execution_count": null,
   "metadata": {},
   "outputs": [],
   "source": []
  },
  {
   "cell_type": "code",
   "execution_count": null,
   "metadata": {},
   "outputs": [],
   "source": []
  },
  {
   "cell_type": "code",
   "execution_count": 68,
   "metadata": {},
   "outputs": [
    {
     "name": "stdout",
     "output_type": "stream",
     "text": [
      "(20, 64, 64, 61, 4) (20, 64, 64, 61, 2)\n"
     ]
    }
   ],
   "source": [
    "X_data = np.load('X_data.npy')\n",
    "y_data = np.load('y_data.npy')\n",
    "print(X_data.shape, y_data.shape)"
   ]
  },
  {
   "cell_type": "code",
   "execution_count": null,
   "metadata": {},
   "outputs": [],
   "source": [
    "device = 'cuda'\n",
    "\n",
    "rom = h2_hete_rom().to(device)\n",
    "optimizer = NAdam(rom.parameters(), lr=1e-3)\n",
    "loss_fn = nn.MSELoss()\n",
    "\n",
    "X_train = torch.Tensor(X_data).to(device)\n",
    "y_train = torch.Tensor(y_data).to(device)\n",
    "\n",
    "loss, val_loss = [], []\n",
    "metrics = {'loss':[], 'val_loss':[]}\n",
    "epochs = 10\n",
    "batch_size = 1\n",
    "\n",
    "for epoch in range(epochs):\n",
    "    rom.train()\n",
    "    epoch_loss = 0.0\n",
    "    for i in range(0, len(X_train), batch_size):\n",
    "        inp  = X_train[i:i+batch_size]\n",
    "        true = y_train[i:i+batch_size]\n",
    "        optimizer.zero_grad()\n",
    "        pred = rom(inp)\n",
    "        loss = loss_fn(pred,true)\n",
    "        loss.backward()\n",
    "        optimizer.step()\n",
    "        epoch_loss += loss.item()*inp.size(0)\n",
    "    metrics['loss'].append(epoch_loss/len(X_train))"
   ]
  },
  {
   "cell_type": "code",
   "execution_count": null,
   "metadata": {},
   "outputs": [],
   "source": []
  }
 ],
 "metadata": {
  "kernelspec": {
   "display_name": "deep",
   "language": "python",
   "name": "python3"
  },
  "language_info": {
   "codemirror_mode": {
    "name": "ipython",
    "version": 3
   },
   "file_extension": ".py",
   "mimetype": "text/x-python",
   "name": "python",
   "nbconvert_exporter": "python",
   "pygments_lexer": "ipython3",
   "version": "3.8.16"
  },
  "orig_nbformat": 4
 },
 "nbformat": 4,
 "nbformat_minor": 2
}
