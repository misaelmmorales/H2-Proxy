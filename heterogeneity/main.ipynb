{
 "cells": [
  {
   "cell_type": "code",
   "execution_count": 1,
   "metadata": {},
   "outputs": [
    {
     "name": "stdout",
     "output_type": "stream",
     "text": [
      "-------------------------------------------------\n",
      "------------------ VERSION INFO -----------------\n",
      "Conda Environment: torchy | Python version: 3.8.16 (default, Mar  2 2023, 03:18:16) [MSC v.1916 64 bit (AMD64)]\n",
      "Torch version: 2.0.1\n",
      "Torch build with CUDA? True\n",
      "# Device(s) available: 1, Name(s): Quadro P520\n",
      "\n"
     ]
    }
   ],
   "source": [
    "from utils import *\n",
    "\n",
    "hete = Heterogeneity()\n",
    "hete.check_torch_gpu()"
   ]
  },
  {
   "cell_type": "markdown",
   "metadata": {},
   "source": [
    "***\n",
    "# END"
   ]
  },
  {
   "cell_type": "code",
   "execution_count": null,
   "metadata": {},
   "outputs": [],
   "source": [
    "X_data = np.load('X_data.npy')\n",
    "y_data = np.load('y_data.npy')\n",
    "print(X_data.shape, y_data.shape)"
   ]
  },
  {
   "cell_type": "code",
   "execution_count": null,
   "metadata": {},
   "outputs": [],
   "source": [
    "all_data = np.concatenate([X_data, y_data], -1)\n",
    "print(all_data.shape)"
   ]
  },
  {
   "cell_type": "code",
   "execution_count": null,
   "metadata": {},
   "outputs": [],
   "source": [
    "X_data[0,:,:,0, 2].max()"
   ]
  },
  {
   "cell_type": "code",
   "execution_count": null,
   "metadata": {},
   "outputs": [],
   "source": [
    "realization = 2\n",
    "fig, axs = plt.subplots(6, 12, figsize=(20,10))\n",
    "for i in range(6):\n",
    "    for j in range(12):\n",
    "        axs[i,j].imshow(all_data[realization, :, :, j*5, i], 'jet')\n",
    "        axs[i,j].set(xticks=[], yticks=[])\n",
    "        if i==3:\n",
    "            im = axs[i,j].imshow(all_data[realization,:,:,j*5,i], 'jet', vmin=0, vmax=60)\n",
    "            plt.colorbar(im, pad=0.04, fraction=0.046)\n",
    "plt.show()"
   ]
  },
  {
   "cell_type": "code",
   "execution_count": null,
   "metadata": {},
   "outputs": [],
   "source": [
    "device = 'cuda'\n",
    "\n",
    "rom = h2_hete_rom().to(device)\n",
    "optimizer = NAdam(rom.parameters(), lr=1e-3)\n",
    "loss_fn = nn.MSELoss()\n",
    "\n",
    "X_train = torch.Tensor(X_data).to(device)\n",
    "y_train = torch.Tensor(y_data).to(device)\n",
    "\n",
    "loss, val_loss = [], []\n",
    "metrics = {'loss':[], 'val_loss':[]}\n",
    "epochs = 10\n",
    "batch_size = 1\n",
    "\n",
    "for epoch in range(epochs):\n",
    "    rom.train()\n",
    "    epoch_loss = 0.0\n",
    "    for i in range(0, len(X_train), batch_size):\n",
    "        inp  = X_train[i:i+batch_size]\n",
    "        true = y_train[i:i+batch_size]\n",
    "        optimizer.zero_grad()\n",
    "        pred = rom(inp)\n",
    "        loss = loss_fn(pred,true)\n",
    "        loss.backward()\n",
    "        optimizer.step()\n",
    "        epoch_loss += loss.item()*inp.size(0)\n",
    "    metrics['loss'].append(epoch_loss/len(X_train))"
   ]
  },
  {
   "cell_type": "code",
   "execution_count": null,
   "metadata": {},
   "outputs": [],
   "source": []
  }
 ],
 "metadata": {
  "kernelspec": {
   "display_name": "deep",
   "language": "python",
   "name": "python3"
  },
  "language_info": {
   "codemirror_mode": {
    "name": "ipython",
    "version": 3
   },
   "file_extension": ".py",
   "mimetype": "text/x-python",
   "name": "python",
   "nbconvert_exporter": "python",
   "pygments_lexer": "ipython3",
   "version": "3.8.16"
  },
  "orig_nbformat": 4
 },
 "nbformat": 4,
 "nbformat_minor": 2
}
