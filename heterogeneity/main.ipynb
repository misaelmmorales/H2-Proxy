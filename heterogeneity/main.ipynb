{
 "cells": [
  {
   "cell_type": "code",
   "execution_count": 1,
   "metadata": {},
   "outputs": [
    {
     "name": "stderr",
     "output_type": "stream",
     "text": [
      "c:\\Users\\381792\\AppData\\Local\\anaconda3\\envs\\torchy\\lib\\site-packages\\tqdm\\auto.py:21: TqdmWarning: IProgress not found. Please update jupyter and ipywidgets. See https://ipywidgets.readthedocs.io/en/stable/user_install.html\n",
      "  from .autonotebook import tqdm as notebook_tqdm\n"
     ]
    },
    {
     "name": "stdout",
     "output_type": "stream",
     "text": [
      "-------------------------------------------------\n",
      "------------------ VERSION INFO -----------------\n",
      "Conda Environment: torchy | Python version: 3.8.16 (default, Mar  2 2023, 03:18:16) [MSC v.1916 64 bit (AMD64)]\n",
      "Torch version: 2.0.1\n",
      "Torch build with CUDA? True\n",
      "# Device(s) available: 1, Name(s): Quadro P520\n",
      "\n"
     ]
    }
   ],
   "source": [
    "from utils import *\n",
    "\n",
    "hete = Heterogeneity()\n",
    "hete.check_torch_gpu()"
   ]
  },
  {
   "cell_type": "code",
   "execution_count": 8,
   "metadata": {},
   "outputs": [
    {
     "name": "stdout",
     "output_type": "stream",
     "text": [
      "Facies shape: (1000, 256, 256)\n",
      "Permf: (1000, 65536) | Permg: (1000, 65536)\n",
      "Fluvial heterogeneity: (1000, 256, 256, 2) | Gaussian heterogeneity: (1000, 256, 256, 2)\n"
     ]
    }
   ],
   "source": [
    "hete_facies = hete.load_facies()\n",
    "hete_fluv, hete_gaus = hete.load_perm_poro()"
   ]
  },
  {
   "attachments": {},
   "cell_type": "markdown",
   "metadata": {},
   "source": [
    "***\n",
    "# END"
   ]
  },
  {
   "cell_type": "code",
   "execution_count": 27,
   "metadata": {},
   "outputs": [],
   "source": [
    "perm_0azim   = pd.read_csv('data3D/perm_0azim.csv')\n",
    "perm_30azim  = pd.read_csv('data3D/perm_30azim.csv')\n",
    "perm_45azim  = pd.read_csv('data3D/perm_45azim.csv')\n",
    "perm_60azim  = pd.read_csv('data3D/perm_60azim.csv')\n",
    "perm_90azim  = pd.read_csv('data3D/perm_90azim.csv')\n",
    "perm_120azim = pd.read_csv('data3D/perm_120azim.csv')\n",
    "perm_135azim = pd.read_csv('data3D/perm_135azim.csv')\n",
    "perm_150azim = pd.read_csv('data3D/perm_150azim.csv')"
   ]
  },
  {
   "cell_type": "code",
   "execution_count": 17,
   "metadata": {},
   "outputs": [],
   "source": [
    "perm_noAzim_1 = pd.read_csv('data3D/perm_noazim_3d_1_65.csv')\n",
    "perm_noAzim_2 = pd.read_csv('data3D/perm_noazim_3d_65_130.csv')\n",
    "perm_noAzim_3 = pd.read_csv('data3D/perm_noazim_3d_130_195.csv')\n",
    "perm_noAzim_4 = pd.read_csv('data3D/perm_noazim_3d_195_260.csv')\n",
    "perm_noAzim_5 = pd.read_csv('data3D/perm_noazim_3d_260_325.csv')\n",
    "perm_noAzim_6 = pd.read_csv('data3D/perm_noazim_3d_325_390.csv')\n",
    "perm_noAzim_7 = pd.read_csv('data3D/perm_noazim_3d_390_455.csv')\n",
    "perm_noAzim_8 = pd.read_csv('data3D/perm_noazim_3d_455_520.csv')"
   ]
  },
  {
   "cell_type": "code",
   "execution_count": 28,
   "metadata": {},
   "outputs": [
    {
     "data": {
      "text/plain": [
       "(520, 262144)"
      ]
     },
     "execution_count": 28,
     "metadata": {},
     "output_type": "execute_result"
    }
   ],
   "source": [
    "permg = np.hstack([perm_0azim, perm_30azim, perm_45azim, perm_60azim, perm_90azim, perm_120azim, perm_135azim, perm_150azim]).T\n",
    "permg.shape"
   ]
  },
  {
   "cell_type": "code",
   "execution_count": 30,
   "metadata": {},
   "outputs": [
    {
     "data": {
      "text/plain": [
       "(520, 262144)"
      ]
     },
     "execution_count": 30,
     "metadata": {},
     "output_type": "execute_result"
    }
   ],
   "source": [
    "permf = np.hstack([perm_noAzim_1, perm_noAzim_2, perm_noAzim_3, perm_noAzim_4, perm_noAzim_5, perm_noAzim_6, perm_noAzim_7, perm_noAzim_8]).T\n",
    "permf.shape"
   ]
  },
  {
   "cell_type": "code",
   "execution_count": 37,
   "metadata": {},
   "outputs": [
    {
     "data": {
      "text/plain": [
       "(520, 262144)"
      ]
     },
     "execution_count": 37,
     "metadata": {},
     "output_type": "execute_result"
    }
   ],
   "source": [
    "permf_norm = MinMaxScaler((0, 2.80)).fit_transform(permf.T).T\n",
    "permf_norm.shape"
   ]
  },
  {
   "cell_type": "code",
   "execution_count": 51,
   "metadata": {},
   "outputs": [
    {
     "data": {
      "text/plain": [
       "(520, 262144)"
      ]
     },
     "execution_count": 51,
     "metadata": {},
     "output_type": "execute_result"
    }
   ],
   "source": [
    "facies = np.zeros((520,128*128*16))\n",
    "for i in range(520):\n",
    "    facies[i] = np.load('data3D/facies/facies{}.npy'.format(i)).reshape(128*128*16)\n",
    "facies.shape"
   ]
  },
  {
   "cell_type": "code",
   "execution_count": 54,
   "metadata": {},
   "outputs": [
    {
     "data": {
      "text/plain": [
       "(520, 262144)"
      ]
     },
     "execution_count": 54,
     "metadata": {},
     "output_type": "execute_result"
    }
   ],
   "source": [
    "perm_fluv = permf_norm * facies\n",
    "perm_fluv.shape"
   ]
  },
  {
   "cell_type": "code",
   "execution_count": 60,
   "metadata": {},
   "outputs": [
    {
     "data": {
      "text/plain": [
       "(520, 262144)"
      ]
     },
     "execution_count": 60,
     "metadata": {},
     "output_type": "execute_result"
    }
   ],
   "source": [
    "poro_fluv = 10**((perm_fluv-7)/10)\n",
    "poro_fluv.shape"
   ]
  },
  {
   "cell_type": "code",
   "execution_count": 64,
   "metadata": {},
   "outputs": [],
   "source": [
    "k = np.expand_dims(perm_fluv.reshape(520,128,128,16), -1)\n",
    "p = np.expand_dims(poro_fluv.reshape(520,128,128,16), -1)\n",
    "\n",
    "hete_fluv = np.concatenate([k,p], -1)"
   ]
  },
  {
   "cell_type": "code",
   "execution_count": 65,
   "metadata": {},
   "outputs": [
    {
     "data": {
      "text/plain": [
       "(520, 128, 128, 16, 2)"
      ]
     },
     "execution_count": 65,
     "metadata": {},
     "output_type": "execute_result"
    }
   ],
   "source": [
    "hete_fluv.shape"
   ]
  },
  {
   "cell_type": "code",
   "execution_count": 67,
   "metadata": {},
   "outputs": [],
   "source": [
    "np.save('//dcstorage.lanl.gov/mfr/misael/fluvial_3d.npy', hete_fluv)"
   ]
  },
  {
   "cell_type": "code",
   "execution_count": null,
   "metadata": {},
   "outputs": [],
   "source": []
  },
  {
   "cell_type": "code",
   "execution_count": null,
   "metadata": {},
   "outputs": [
    {
     "data": {
      "text/plain": [
       "(520, 128, 128, 16, 2)"
      ]
     },
     "execution_count": 63,
     "metadata": {},
     "output_type": "execute_result"
    }
   ],
   "source": [
    "np.load('//dcstorage.lanl.gov/mfr/misael/gaussian_3d.npy').shape"
   ]
  }
 ],
 "metadata": {
  "kernelspec": {
   "display_name": "deep",
   "language": "python",
   "name": "python3"
  },
  "language_info": {
   "codemirror_mode": {
    "name": "ipython",
    "version": 3
   },
   "file_extension": ".py",
   "mimetype": "text/x-python",
   "name": "python",
   "nbconvert_exporter": "python",
   "pygments_lexer": "ipython3",
   "version": "3.8.16"
  },
  "orig_nbformat": 4
 },
 "nbformat": 4,
 "nbformat_minor": 2
}
