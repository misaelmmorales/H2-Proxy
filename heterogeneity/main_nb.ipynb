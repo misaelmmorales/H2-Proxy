{
 "cells": [
  {
   "cell_type": "markdown",
   "metadata": {},
   "source": [
    "### Multiscale Residual Spatiotemporal Vision Transformer (MR-ST-ViT | PixFormer)\n",
    "\n",
    "### Misael M. Morales, 2024\n",
    "***"
   ]
  },
  {
   "cell_type": "code",
   "execution_count": null,
   "metadata": {},
   "outputs": [],
   "source": [
    "from main import *\n",
    "\n",
    "hete = Heterogeneity()"
   ]
  },
  {
   "cell_type": "code",
   "execution_count": null,
   "metadata": {},
   "outputs": [],
   "source": [
    "hete.make_dataloaders()"
   ]
  },
  {
   "cell_type": "code",
   "execution_count": null,
   "metadata": {},
   "outputs": [],
   "source": [
    "hete.trainer()"
   ]
  },
  {
   "cell_type": "code",
   "execution_count": null,
   "metadata": {},
   "outputs": [],
   "source": [
    "hete.tester()"
   ]
  },
  {
   "cell_type": "code",
   "execution_count": null,
   "metadata": {},
   "outputs": [],
   "source": [
    "hete.plot_losses()"
   ]
  },
  {
   "cell_type": "markdown",
   "metadata": {},
   "source": [
    "***\n",
    "# END"
   ]
  },
  {
   "cell_type": "code",
   "execution_count": null,
   "metadata": {},
   "outputs": [],
   "source": [
    "for i, (x,y) in enumerate(hete.train_dataloader):\n",
    "    print(x.shape, y.shape)\n",
    "    break"
   ]
  },
  {
   "cell_type": "code",
   "execution_count": null,
   "metadata": {},
   "outputs": [],
   "source": [
    "x_sample = x.reshape(32, 40, 3, 64, 64)\n",
    "y_sample = y.reshape(32, 40, 2, 64, 64)\n",
    "\n",
    "fig, axs = plt.subplots(5, 10, figsize=(20,6))\n",
    "for i in range(5):\n",
    "    for j in range(10):\n",
    "        k, t = i*5, j*4\n",
    "        axs[i,j].imshow(x_sample[k,t,0], cmap='jet')\n",
    "        axs[i,j].set(xticks=[], yticks=[])\n",
    "        axs[i,0].set(ylabel='# {}'.format(k))\n",
    "        axs[0,j].set(title='t = {}'.format(t))\n",
    "plt.tight_layout(); plt.show()\n",
    "\n",
    "fig, axs = plt.subplots(5, 10, figsize=(20,6))\n",
    "for i in range(5):\n",
    "    for j in range(10):\n",
    "        k, t = i*5, j*4\n",
    "        axs[i,j].imshow(y_sample[k,t,1], cmap='jet')\n",
    "        axs[i,j].set(xticks=[], yticks=[])\n",
    "        axs[i,0].set(ylabel='# {}'.format(k))\n",
    "        axs[0,j].set(title='t = {}'.format(t))\n",
    "plt.tight_layout(); plt.show()"
   ]
  },
  {
   "cell_type": "code",
   "execution_count": null,
   "metadata": {},
   "outputs": [],
   "source": [
    "print(x.shape, '  | Original')\n",
    "\n",
    "projection_dim = 64*4\n",
    "latent_size    = 8\n",
    "\n",
    "y = ViTencoder()(x)\n",
    "print(y.shape, '      | Encoded')\n",
    "\n",
    "y = y.view(-1, projection_dim, latent_size, latent_size)\n",
    "print(y.shape, '  | Reshaped')\n",
    "\n",
    "def conv_block(in_channels, out_channels):\n",
    "    return nn.Sequential(\n",
    "        nn.Conv2d(in_channels, out_channels, kernel_size=3, padding=1),\n",
    "        SqueezeExcitation(out_channels, out_channels//4),\n",
    "        nn.InstanceNorm2d(out_channels),\n",
    "        nn.PReLU(),\n",
    "        MultiScaleResidual(),\n",
    "        nn.Upsample(scale_factor=2),\n",
    "        nn.Conv2d(out_channels*2, out_channels, kernel_size=3, padding=1))\n",
    "\n",
    "y = conv_block(projection_dim, projection_dim//2)(y)\n",
    "print(y.shape, '| ConvBlock 1')\n",
    "\n",
    "y = conv_block(projection_dim//2, projection_dim//4)(y)\n",
    "print(y.shape, ' | ConvBlock 2')\n",
    "\n",
    "y = conv_block(projection_dim//4, projection_dim//8)(y)\n",
    "print(y.shape, ' | ConvBlock 3')\n",
    "\n",
    "y = nn.Conv2d(projection_dim//8, 2, kernel_size=3, padding=1)(y)\n",
    "print(y.shape, '  | Out')"
   ]
  },
  {
   "cell_type": "code",
   "execution_count": null,
   "metadata": {},
   "outputs": [],
   "source": [
    "y_sample = y.reshape(32, 40, 2, 64, 64).detach().numpy()\n",
    "\n",
    "fig, axs = plt.subplots(5, 10, figsize=(20,6))\n",
    "for i in range(5):\n",
    "    for j in range(10):\n",
    "        k, t = i*5, j*4\n",
    "        axs[i,j].imshow(y_sample[k,t,1], cmap='jet')\n",
    "        axs[i,j].set(xticks=[], yticks=[])\n",
    "        axs[i,0].set(ylabel='# {}'.format(k))\n",
    "        axs[0,j].set(title='t = {}'.format(t))\n",
    "plt.tight_layout(); plt.show()"
   ]
  },
  {
   "cell_type": "code",
   "execution_count": null,
   "metadata": {},
   "outputs": [],
   "source": []
  }
 ],
 "metadata": {
  "kernelspec": {
   "display_name": "torchy",
   "language": "python",
   "name": "python3"
  },
  "language_info": {
   "codemirror_mode": {
    "name": "ipython",
    "version": 3
   },
   "file_extension": ".py",
   "mimetype": "text/x-python",
   "name": "python",
   "nbconvert_exporter": "python",
   "pygments_lexer": "ipython3",
   "version": "3.10.13"
  }
 },
 "nbformat": 4,
 "nbformat_minor": 2
}
