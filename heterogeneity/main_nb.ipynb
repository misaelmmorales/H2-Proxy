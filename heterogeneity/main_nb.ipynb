{
 "cells": [
  {
   "cell_type": "markdown",
   "metadata": {},
   "source": [
    "### Multiscale Spatiotemporal Vision Transformer (MST-ViT | PixFormer)\n",
    "\n",
    "### Misael M. Morales, 2024\n",
    "***"
   ]
  },
  {
   "cell_type": "code",
   "execution_count": null,
   "metadata": {},
   "outputs": [],
   "source": [
    "from heterogeneity import *\n",
    "\n",
    "h = H2ViT()"
   ]
  },
  {
   "cell_type": "code",
   "execution_count": null,
   "metadata": {},
   "outputs": [],
   "source": [
    "h.load_data()"
   ]
  },
  {
   "cell_type": "code",
   "execution_count": null,
   "metadata": {},
   "outputs": [],
   "source": [
    "h.train_model()\n"
   ]
  },
  {
   "cell_type": "code",
   "execution_count": null,
   "metadata": {},
   "outputs": [],
   "source": [
    "h.plot_losses()"
   ]
  },
  {
   "cell_type": "markdown",
   "metadata": {},
   "source": [
    "***\n",
    "# END"
   ]
  },
  {
   "cell_type": "code",
   "execution_count": null,
   "metadata": {},
   "outputs": [],
   "source": [
    "for i, (x0, y0) in enumerate(h.train_loader):\n",
    "    print(x0.shape, y0.shape)\n",
    "    break\n",
    "\n",
    "yh = h.model(x0.to(h.device))\n",
    "x0 = x0.detach().numpy().reshape(h.batch_size, 10, h.in_channels, h.image_size, h.image_size)\n",
    "y0 = y0.detach().numpy().reshape(h.batch_size, 10, h.out_channels, h.image_size, h.image_size)\n",
    "yh = yh.detach().cpu().numpy().reshape(h.batch_size, 10, h.out_channels, h.image_size, h.image_size)\n",
    "print('X0: {} | Y0: {} | Yh: {}'.format(x0.shape, y0.shape, yh.shape))"
   ]
  },
  {
   "cell_type": "code",
   "execution_count": null,
   "metadata": {},
   "outputs": [],
   "source": [
    "figsize=(15,4)\n",
    "fig, axs = plt.subplots(3, 10, figsize=figsize)\n",
    "for i in range(3):\n",
    "    for j in range(10):\n",
    "        axs[i,j].imshow(x0[i, j, 0], 'jet')\n",
    "        axs[i,j].set(xticks=[], yticks=[])\n",
    "plt.tight_layout(); plt.savefig('x0.png')\n",
    "fig, axs = plt.subplots(3, 10, figsize=figsize)\n",
    "for i in range(3):\n",
    "    for j in range(10):\n",
    "        axs[i,j].imshow(y0[i, j, 1], 'jet')\n",
    "        axs[i,j].set(xticks=[], yticks=[])\n",
    "plt.tight_layout(); plt.savefig('y0.png')\n",
    "fig, axs = plt.subplots(3, 10, figsize=figsize)\n",
    "for i in range(3):\n",
    "    for j in range(10):\n",
    "        axs[i,j].imshow(yh[i, j, 1], 'jet')\n",
    "        axs[i,j].set(xticks=[], yticks=[])\n",
    "plt.tight_layout(); plt.savefig('yh.png')"
   ]
  },
  {
   "cell_type": "code",
   "execution_count": null,
   "metadata": {},
   "outputs": [],
   "source": []
  }
 ],
 "metadata": {
  "kernelspec": {
   "display_name": "torchy",
   "language": "python",
   "name": "python3"
  },
  "language_info": {
   "codemirror_mode": {
    "name": "ipython",
    "version": 3
   },
   "file_extension": ".py",
   "mimetype": "text/x-python",
   "name": "python",
   "nbconvert_exporter": "python",
   "pygments_lexer": "ipython3",
   "version": "3.11.7"
  }
 },
 "nbformat": 4,
 "nbformat_minor": 2
}
