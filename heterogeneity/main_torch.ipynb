{
 "cells": [
  {
   "cell_type": "code",
   "execution_count": null,
   "metadata": {},
   "outputs": [],
   "source": [
    "import os, time, math\n",
    "import numpy as np\n",
    "import matplotlib.pyplot as plt\n",
    "from einops import rearrange\n",
    "\n",
    "\n",
    "import torch\n",
    "import torch.nn as nn\n",
    "import torch.nn.functional as F\n",
    "import torchvision.transforms as transforms\n",
    "\n",
    "def check_torch_gpu():\n",
    "    torch_version, cuda_avail = torch.__version__, torch.cuda.is_available()\n",
    "    count, name = torch.cuda.device_count(), torch.cuda.get_device_name()\n",
    "    #py_version, conda_env_name = sys.version, sys.executable.split('\\\\')[-2]\n",
    "    print('\\n'+'-'*60)\n",
    "    print('----------------------- VERSION INFO -----------------------')\n",
    "    #print('Conda Environment: {} | Python version: {}'.format(conda_env_name, py_version))\n",
    "    print('Torch version: {}'.format(torch_version))\n",
    "    print('Torch build with CUDA? {}'.format(cuda_avail))\n",
    "    print('# Device(s) available: {}, Name(s): {}'.format(count, name))\n",
    "    print('-'*60+'\\n')\n",
    "    device = torch.device('cuda' if cuda_avail else 'cpu')\n",
    "    return device\n",
    "device = check_torch_gpu()"
   ]
  },
  {
   "cell_type": "code",
   "execution_count": null,
   "metadata": {},
   "outputs": [],
   "source": [
    "class PatchEmbedding(nn.Module):\n",
    "    def __init__(self, image_size, patch_size, in_channels, embed_dim):\n",
    "        super(PatchEmbedding, self).__init__()\n",
    "        self.image_size = image_size\n",
    "        self.patch_size = patch_size\n",
    "        self.projection = nn.Conv2d(in_channels, embed_dim, kernel_size=patch_size, stride=patch_size)\n",
    "\n",
    "    def forward(self, x):\n",
    "        patches = self.projection(x)\n",
    "        patches = rearrange(patches, 'b c h w -> b (h w) c')\n",
    "        return patches"
   ]
  },
  {
   "cell_type": "code",
   "execution_count": null,
   "metadata": {},
   "outputs": [],
   "source": [
    "class PositionalEncoding(nn.Module):\n",
    "    def __init__(self, embed_dim, max_seq_len=512):\n",
    "        super(PositionalEncoding, self).__init__()\n",
    "        position = torch.arange(0, max_seq_len).unsqueeze(1).float()\n",
    "        div_term = torch.exp(torch.arange(0, embed_dim, 2).float() * -(math.log(10000.0) / embed_dim))\n",
    "        pos_enc  = torch.zeros((1, max_seq_len, embed_dim))\n",
    "        pos_enc[0, :, 0::2] = torch.sin(position * div_term)\n",
    "        pos_enc[0, :, 1::2] = torch.cos(position * div_term)\n",
    "        self.register_buffer('pos_enc', pos_enc)\n",
    "\n",
    "    def forward(self, x):\n",
    "        return x + self.pos_enc[:, :x.size(1)].detach()"
   ]
  },
  {
   "cell_type": "code",
   "execution_count": null,
   "metadata": {},
   "outputs": [],
   "source": [
    "class MultiHeadAttention(nn.Module):\n",
    "    def __init__(self, embed_dim, num_heads):\n",
    "        super(MultiHeadAttention, self).__init__()\n",
    "        self.embed_dim = embed_dim\n",
    "        self.num_heads = num_heads\n",
    "        self.head_dim  = embed_dim // num_heads\n",
    "\n",
    "        self.query = nn.Linear(embed_dim, embed_dim)\n",
    "        self.key   = nn.Linear(embed_dim, embed_dim)\n",
    "        self.value = nn.Linear(embed_dim, embed_dim)\n",
    "\n",
    "        self.fc_out = nn.Linear(embed_dim, embed_dim)\n",
    "\n",
    "    def forward(self, query, key, value):\n",
    "        batch_size = query.shape[0]\n",
    "        Q = self.query(query).view(batch_size, -1, self.num_heads, self.head_dim).permute(0, 2, 1, 3)\n",
    "        K = self.key(key).view(batch_size, -1, self.num_heads, self.head_dim).permute(0, 2, 1, 3)\n",
    "        V = self.value(value).view(batch_size, -1, self.num_heads, self.head_dim).permute(0, 2, 1, 3)\n",
    "        scores = torch.matmul(Q, K.permute(0, 1, 3, 2)) / torch.sqrt(torch.tensor(self.head_dim, dtype=torch.float32))\n",
    "        attention_weights = F.softmax(scores, dim=-1)\n",
    "        out = torch.matmul(attention_weights, V)\n",
    "        out = out.permute(0, 2, 1, 3).contiguous().view(batch_size, -1, self.embed_dim)\n",
    "        out = self.fc_out(out)\n",
    "        return out"
   ]
  },
  {
   "cell_type": "code",
   "execution_count": null,
   "metadata": {},
   "outputs": [],
   "source": [
    "class MLPBlock(nn.Module):\n",
    "    def __init__(self, embed_dim, mlp_hidden_dim):\n",
    "        super(MLPBlock, self).__init__()\n",
    "        self.fc1 = nn.Linear(embed_dim, mlp_hidden_dim)\n",
    "        self.fc2 = nn.Linear(mlp_hidden_dim, embed_dim)\n",
    "\n",
    "    def forward(self, x):\n",
    "        x = F.gelu(self.fc1(x))\n",
    "        x = self.fc2(x)\n",
    "        return x"
   ]
  },
  {
   "cell_type": "code",
   "execution_count": null,
   "metadata": {},
   "outputs": [],
   "source": [
    "class TransformerEncoderBlock(nn.Module):\n",
    "    def __init__(self, embed_dim, num_heads, mlp_hidden_dim=1024):\n",
    "        super(TransformerEncoderBlock, self).__init__()\n",
    "        self.self_attention = MultiHeadAttention(embed_dim, num_heads)\n",
    "        self.mlp_block = MLPBlock(embed_dim, mlp_hidden_dim)\n",
    "        self.norm1 = nn.LayerNorm(embed_dim)\n",
    "        self.norm2 = nn.LayerNorm(embed_dim)\n",
    "\n",
    "    def forward(self, x):\n",
    "        attention_output = self.self_attention(x, x, x)\n",
    "        x = x + attention_output\n",
    "        x = self.norm1(x)\n",
    "        mlp_output = self.mlp_block(x)\n",
    "        x = x + mlp_output\n",
    "        x = self.norm2(x)\n",
    "        return x"
   ]
  },
  {
   "cell_type": "code",
   "execution_count": null,
   "metadata": {},
   "outputs": [],
   "source": [
    "class ViTencoder(nn.Module):\n",
    "    def __init__(self, image_size=256, in_channels=3, patch_size=16, num_classes=32*32*128, embed_dim=1024, num_heads=16, num_layers=8):\n",
    "        super(ViTencoder, self).__init__()\n",
    "        self.patch_embedding = PatchEmbedding(image_size, patch_size, in_channels, embed_dim)\n",
    "        self.positional_encoding = PositionalEncoding(embed_dim)\n",
    "        self.transformer_blocks = nn.ModuleList([TransformerEncoderBlock(embed_dim, num_heads) for _ in range(num_layers)])\n",
    "        self.global_avg_pooling = nn.AdaptiveAvgPool1d(1)\n",
    "        self.fc = nn.Linear(embed_dim, num_classes)\n",
    "\n",
    "    def forward(self, x):\n",
    "        x = self.patch_embedding(x)\n",
    "        x = self.positional_encoding(x)\n",
    "        for transformer_block in self.transformer_blocks:\n",
    "            x = transformer_block(x)\n",
    "        x = self.global_avg_pooling(x.transpose(1, 2))\n",
    "        x = x.squeeze(2)\n",
    "        x = self.fc(x)\n",
    "        return x"
   ]
  },
  {
   "cell_type": "code",
   "execution_count": null,
   "metadata": {},
   "outputs": [],
   "source": [
    "class pixFormer(nn.Module):\n",
    "    def __init__(self):\n",
    "        super(pixFormer, self).__init__()\n",
    "        self.Tencoder = ViTencoder()\n",
    "\n",
    "    def forward(self, x):\n",
    "        x = self.Tencoder(x)\n",
    "        x = x.view(-1, 256, 32, 32)\n",
    "        return x"
   ]
  },
  {
   "cell_type": "code",
   "execution_count": null,
   "metadata": {},
   "outputs": [],
   "source": [
    "model = pixFormer()\n",
    "input_tensor = torch.rand((32, 3, 256, 256))\n",
    "output = model(input_tensor)"
   ]
  },
  {
   "cell_type": "code",
   "execution_count": null,
   "metadata": {},
   "outputs": [],
   "source": [
    "print('Inputs: {} | Outputs: {}'.format(input_tensor.shape, output.shape))"
   ]
  },
  {
   "cell_type": "code",
   "execution_count": null,
   "metadata": {},
   "outputs": [],
   "source": [
    "262144/32/32"
   ]
  },
  {
   "cell_type": "code",
   "execution_count": null,
   "metadata": {},
   "outputs": [],
   "source": []
  },
  {
   "cell_type": "code",
   "execution_count": null,
   "metadata": {},
   "outputs": [],
   "source": []
  },
  {
   "cell_type": "code",
   "execution_count": null,
   "metadata": {},
   "outputs": [],
   "source": []
  },
  {
   "cell_type": "code",
   "execution_count": null,
   "metadata": {},
   "outputs": [],
   "source": []
  },
  {
   "cell_type": "code",
   "execution_count": null,
   "metadata": {},
   "outputs": [],
   "source": [
    "porosity = torch.zeros((10,256,256))\n",
    "for i in range(10):\n",
    "    k = i+1\n",
    "    porosity[i] = torch.Tensor(np.load('Fdataset/sample_{}.npz'.format(k))['poro'])\n",
    "print('Porosity:', porosity.shape)\n",
    "\n",
    "sample_number = 3\n",
    "sample_poro = porosity[sample_number].unsqueeze(0).unsqueeze(0)\n",
    "print('Sample poro:', sample_poro.shape)\n",
    "\n",
    "poro_0 = sample_poro\n",
    "poro_1 = transforms.v2.Resize(size=(128,128), antialias=True)(sample_poro)\n",
    "poro_2 = transforms.v2.Resize(size=(64,64), antialias=True)(sample_poro)\n",
    "poro_3 = transforms.v2.Resize(size=(32,32), antialias=True)(sample_poro)\n",
    "\n",
    "plt.figure(figsize=(15,4))\n",
    "for i in range(4):\n",
    "    data = eval('poro_{}'.format(i)).squeeze()\n",
    "    plt.subplot(1,4,i+1)\n",
    "    plt.imshow(data, cmap='jet')\n",
    "    plt.title('upscale_{} | {}x{}'.format(i, data.shape[0], data.shape[1]))\n",
    "    plt.colorbar(pad=0.04, fraction=0.046)\n",
    "    plt.xticks([]); plt.yticks([])\n",
    "plt.suptitle('Realization {}'.format(sample_number), weight='bold')\n",
    "plt.tight_layout(); plt.show()"
   ]
  },
  {
   "cell_type": "code",
   "execution_count": null,
   "metadata": {},
   "outputs": [],
   "source": [
    "import torch\n",
    "import torch.nn as nn\n",
    "\n",
    "class ImageTransformer(nn.Module):\n",
    "    def __init__(self):\n",
    "        super(ImageTransformer, self).__init__()\n",
    "               \n",
    "        self.encoder_layer1 = nn.TransformerEncoderLayer(d_model=256, nhead=8, activation='gelu', batch_first=True)\n",
    "\n",
    "        self.transformer_encoder1 = nn.TransformerEncoder(self.encoder_layer1, num_layers=4)\n",
    "\n",
    "    def forward(self, x):\n",
    "        x = self.transformer_encoder1(x)\n",
    "        return x\n",
    "\n",
    "model = ImageTransformer()\n",
    "\n",
    "input_tensor = porosity[sample_number].unsqueeze(0)\n",
    "print(\"Input shape:\", input_tensor.shape)\n",
    "\n",
    "output_tensor = model(input_tensor).detach().numpy()\n",
    "print(\"Output shape:\", output_tensor.shape)\n",
    "\n",
    "plt.figure(figsize=(15,4))\n",
    "plt.subplot(121); plt.imshow(input_tensor.T, cmap='jet'); plt.colorbar(pad=0.04, fraction=0.046)\n",
    "plt.subplot(122); plt.imshow(output_tensor.T, cmap='jet'); plt.colorbar(pad=0.04, fraction=0.046)\n",
    "plt.tight_layout(); plt.show()"
   ]
  },
  {
   "cell_type": "code",
   "execution_count": null,
   "metadata": {},
   "outputs": [],
   "source": [
    "fig, axs = plt.subplots(3, 10, figsize=(15, 5))\n",
    "for i in range(10):\n",
    "    axs[0, i].imshow(inputs[i].detach().numpy(), cmap='jet')\n",
    "    axs[1, i].imshow(latent[i].detach().numpy(), cmap='jet')\n",
    "    axs[2, i].imshow(outputs[i].detach().numpy(), cmap='jet')\n",
    "    for j in range(3):\n",
    "        axs[j,i].set(xticks=[], yticks=[])\n",
    "plt.tight_layout(); plt.show()"
   ]
  },
  {
   "cell_type": "code",
   "execution_count": null,
   "metadata": {},
   "outputs": [],
   "source": []
  }
 ],
 "metadata": {
  "kernelspec": {
   "display_name": "torchy",
   "language": "python",
   "name": "python3"
  },
  "language_info": {
   "codemirror_mode": {
    "name": "ipython",
    "version": 3
   },
   "file_extension": ".py",
   "mimetype": "text/x-python",
   "name": "python",
   "nbconvert_exporter": "python",
   "pygments_lexer": "ipython3",
   "version": "3.10.13"
  }
 },
 "nbformat": 4,
 "nbformat_minor": 2
}
